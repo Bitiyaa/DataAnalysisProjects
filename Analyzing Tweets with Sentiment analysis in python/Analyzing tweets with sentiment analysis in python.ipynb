{
 "cells": [
  {
   "cell_type": "markdown",
   "metadata": {},
   "source": [
    "# Sentiment analysis"
   ]
  },
  {
   "cell_type": "code",
   "execution_count": 1,
   "metadata": {},
   "outputs": [],
   "source": [
    "#Questions\n",
    "\n",
    "#Are Michelle’s tweet being mostly positive, neutral or negative? \n",
    "#Which words stand out from the sentiment analysis?\n"
   ]
  },
  {
   "cell_type": "code",
   "execution_count": 2,
   "metadata": {},
   "outputs": [],
   "source": [
    "# Install and Import necessary libraries\n",
    "\n",
    "#pip install tweepy    #requriement already fulfilled \n",
    "#pip install textblob   #requriement already fulfilled\n",
    "\n",
    "import tweepy\n",
    "from textblob import TextBlob\n",
    "import pandas as pd\n",
    "import numpy as np\n",
    "import re    #regular expression\n",
    "import matplotlib.pyplot as plt\n",
    "\n",
    "\n",
    "# Install wordcloud and Import necessary libraries\n",
    "#!pip install wordcloud    #requriement already fulfilled \n",
    "\n",
    "from wordcloud import  WordCloud, STOPWORDS, ImageColorGenerator\n",
    " \n",
    "# Get stopwords from wordcloud library\n",
    "stopwords = set(STOPWORDS)"
   ]
  },
  {
   "cell_type": "code",
   "execution_count": 3,
   "metadata": {},
   "outputs": [],
   "source": [
    "#Import the configuration i.e keys saved from twitter developer account\n",
    "#twitter access tokens\n",
    "\n",
    "configuration=pd.read_csv(\"C:\\\\Users\\\\bitiy\\\\Documents\\\\PythonProjects\\\\sentiment analysis\\\\API_config.csv\")\n"
   ]
  },
  {
   "cell_type": "code",
   "execution_count": 4,
   "metadata": {},
   "outputs": [],
   "source": [
    "#create variable for each of them and retrieve all the individual keys\n",
    "\n",
    "twitterAPIKey= configuration['twitterAPIKey'][0]\n",
    "twitterAPISecret= configuration['twitterAPISecret'][0]\n",
    "twitterAPIAccessToken= configuration['twitterAPIAccessToken'][0]\n",
    "twitterAPIAccessTokenSecret= configuration['twitterAPIAccessTokenSecret'][0]"
   ]
  },
  {
   "cell_type": "code",
   "execution_count": 5,
   "metadata": {},
   "outputs": [],
   "source": [
    "#Authenticate and set token using Tweepy\n",
    "\n",
    "#authenticate the tokens\n",
    "auth=tweepy.OAuthHandler(twitterAPIKey,twitterAPISecret)\n",
    "\n",
    "# Set access token\n",
    "auth.set_access_token(twitterAPIAccessToken,twitterAPIAccessTokenSecret)\n",
    "twitterApi= tweepy.API(auth,wait_on_rate_limit=True)"
   ]
  },
  {
   "cell_type": "code",
   "execution_count": 6,
   "metadata": {},
   "outputs": [],
   "source": [
    "# create empty list which willl be used to store the data\n",
    "results=[]"
   ]
  },
  {
   "cell_type": "code",
   "execution_count": 7,
   "metadata": {},
   "outputs": [],
   "source": [
    "timeline = tweepy.Cursor(twitterApi.user_timeline, screen_name='@MichelleObama', tweet_mode=\"extended\").items(1000)\n",
    "\n",
    "for status in timeline:\n",
    "    data = (\n",
    "    status.user.id,\n",
    "    status.user.screen_name,\n",
    "    status.user.name,\n",
    "    status.full_text,\n",
    "    status.created_at,\n",
    "    status.lang)\n",
    "    results.append(data)\n",
    "\n",
    "cols = \"user_id screen_name name text date lang\".split()\n",
    "df = pd.DataFrame(results, columns=cols)"
   ]
  },
  {
   "cell_type": "code",
   "execution_count": 8,
   "metadata": {},
   "outputs": [
    {
     "data": {
      "text/html": [
       "<div>\n",
       "<style scoped>\n",
       "    .dataframe tbody tr th:only-of-type {\n",
       "        vertical-align: middle;\n",
       "    }\n",
       "\n",
       "    .dataframe tbody tr th {\n",
       "        vertical-align: top;\n",
       "    }\n",
       "\n",
       "    .dataframe thead th {\n",
       "        text-align: right;\n",
       "    }\n",
       "</style>\n",
       "<table border=\"1\" class=\"dataframe\">\n",
       "  <thead>\n",
       "    <tr style=\"text-align: right;\">\n",
       "      <th></th>\n",
       "      <th>user_id</th>\n",
       "      <th>screen_name</th>\n",
       "      <th>name</th>\n",
       "      <th>text</th>\n",
       "      <th>date</th>\n",
       "      <th>lang</th>\n",
       "    </tr>\n",
       "  </thead>\n",
       "  <tbody>\n",
       "    <tr>\n",
       "      <th>0</th>\n",
       "      <td>409486555</td>\n",
       "      <td>MichelleObama</td>\n",
       "      <td>Michelle Obama</td>\n",
       "      <td>Congratulations @Beyonce for making history. T...</td>\n",
       "      <td>2023-02-07 01:00:43+00:00</td>\n",
       "      <td>en</td>\n",
       "    </tr>\n",
       "    <tr>\n",
       "      <th>1</th>\n",
       "      <td>409486555</td>\n",
       "      <td>MichelleObama</td>\n",
       "      <td>Michelle Obama</td>\n",
       "      <td>For more information, go to https://t.co/lJTou...</td>\n",
       "      <td>2023-02-01 13:36:06+00:00</td>\n",
       "      <td>en</td>\n",
       "    </tr>\n",
       "    <tr>\n",
       "      <th>2</th>\n",
       "      <td>409486555</td>\n",
       "      <td>MichelleObama</td>\n",
       "      <td>Michelle Obama</td>\n",
       "      <td>I’m thrilled to share that my new @HGMedia pod...</td>\n",
       "      <td>2023-02-01 13:35:40+00:00</td>\n",
       "      <td>en</td>\n",
       "    </tr>\n",
       "    <tr>\n",
       "      <th>3</th>\n",
       "      <td>409486555</td>\n",
       "      <td>MichelleObama</td>\n",
       "      <td>Michelle Obama</td>\n",
       "      <td>I'd love to hear from you. What's a practice o...</td>\n",
       "      <td>2023-01-30 17:07:40+00:00</td>\n",
       "      <td>en</td>\n",
       "    </tr>\n",
       "    <tr>\n",
       "      <th>4</th>\n",
       "      <td>409486555</td>\n",
       "      <td>MichelleObama</td>\n",
       "      <td>Michelle Obama</td>\n",
       "      <td>For me, the practice I’ve had—and the effort I...</td>\n",
       "      <td>2023-01-30 17:07:39+00:00</td>\n",
       "      <td>en</td>\n",
       "    </tr>\n",
       "  </tbody>\n",
       "</table>\n",
       "</div>"
      ],
      "text/plain": [
       "     user_id    screen_name            name  \\\n",
       "0  409486555  MichelleObama  Michelle Obama   \n",
       "1  409486555  MichelleObama  Michelle Obama   \n",
       "2  409486555  MichelleObama  Michelle Obama   \n",
       "3  409486555  MichelleObama  Michelle Obama   \n",
       "4  409486555  MichelleObama  Michelle Obama   \n",
       "\n",
       "                                                text  \\\n",
       "0  Congratulations @Beyonce for making history. T...   \n",
       "1  For more information, go to https://t.co/lJTou...   \n",
       "2  I’m thrilled to share that my new @HGMedia pod...   \n",
       "3  I'd love to hear from you. What's a practice o...   \n",
       "4  For me, the practice I’ve had—and the effort I...   \n",
       "\n",
       "                       date lang  \n",
       "0 2023-02-07 01:00:43+00:00   en  \n",
       "1 2023-02-01 13:36:06+00:00   en  \n",
       "2 2023-02-01 13:35:40+00:00   en  \n",
       "3 2023-01-30 17:07:40+00:00   en  \n",
       "4 2023-01-30 17:07:39+00:00   en  "
      ]
     },
     "execution_count": 8,
     "metadata": {},
     "output_type": "execute_result"
    }
   ],
   "source": [
    "df.head()"
   ]
  },
  {
   "cell_type": "code",
   "execution_count": 9,
   "metadata": {},
   "outputs": [],
   "source": [
    "#Tweet Cleaning function\n",
    "def cleanUpTweet(txt):\n",
    "  #remove all the mentions using regular expression\n",
    "  txt = re.sub(r'@[A-Za-z0-9_]+', '', txt)\n",
    "  #remove hashtags\n",
    "  txt = re.sub(r'#', '', txt)\n",
    "  #remove retweets\n",
    "  txt = re.sub(r'RT : ', '', txt)\n",
    "  #remove urls\n",
    "  txt = re.sub(r'https?:\\/\\/[A-Za-z0-9\\.\\/]+', '', txt)\n",
    "  return txt"
   ]
  },
  {
   "cell_type": "code",
   "execution_count": 10,
   "metadata": {},
   "outputs": [],
   "source": [
    "df['text']=df['text'].apply(cleanUpTweet)"
   ]
  },
  {
   "cell_type": "code",
   "execution_count": 11,
   "metadata": {},
   "outputs": [],
   "source": [
    "def getTextSubjectivity(txt):\n",
    "  return TextBlob(txt).sentiment.subjectivity\n"
   ]
  },
  {
   "cell_type": "code",
   "execution_count": 12,
   "metadata": {},
   "outputs": [],
   "source": [
    "def getTextPolarity(txt):\n",
    "  return TextBlob(txt).sentiment.polarity\n"
   ]
  },
  {
   "cell_type": "code",
   "execution_count": 13,
   "metadata": {},
   "outputs": [],
   "source": [
    "df['Subjectivity']=df['text'].apply(getTextSubjectivity)"
   ]
  },
  {
   "cell_type": "code",
   "execution_count": 14,
   "metadata": {},
   "outputs": [],
   "source": [
    "df['Polarity']=df['text'].apply(getTextPolarity)"
   ]
  },
  {
   "cell_type": "code",
   "execution_count": 15,
   "metadata": {},
   "outputs": [
    {
     "data": {
      "text/html": [
       "<div>\n",
       "<style scoped>\n",
       "    .dataframe tbody tr th:only-of-type {\n",
       "        vertical-align: middle;\n",
       "    }\n",
       "\n",
       "    .dataframe tbody tr th {\n",
       "        vertical-align: top;\n",
       "    }\n",
       "\n",
       "    .dataframe thead th {\n",
       "        text-align: right;\n",
       "    }\n",
       "</style>\n",
       "<table border=\"1\" class=\"dataframe\">\n",
       "  <thead>\n",
       "    <tr style=\"text-align: right;\">\n",
       "      <th></th>\n",
       "      <th>user_id</th>\n",
       "      <th>screen_name</th>\n",
       "      <th>name</th>\n",
       "      <th>text</th>\n",
       "      <th>date</th>\n",
       "      <th>lang</th>\n",
       "      <th>Subjectivity</th>\n",
       "      <th>Polarity</th>\n",
       "    </tr>\n",
       "  </thead>\n",
       "  <tbody>\n",
       "    <tr>\n",
       "      <th>0</th>\n",
       "      <td>409486555</td>\n",
       "      <td>MichelleObama</td>\n",
       "      <td>Michelle Obama</td>\n",
       "      <td>Congratulations  for making history. Thank you...</td>\n",
       "      <td>2023-02-07 01:00:43+00:00</td>\n",
       "      <td>en</td>\n",
       "      <td>0.500000</td>\n",
       "      <td>0.380682</td>\n",
       "    </tr>\n",
       "    <tr>\n",
       "      <th>1</th>\n",
       "      <td>409486555</td>\n",
       "      <td>MichelleObama</td>\n",
       "      <td>Michelle Obama</td>\n",
       "      <td>For more information, go to</td>\n",
       "      <td>2023-02-01 13:36:06+00:00</td>\n",
       "      <td>en</td>\n",
       "      <td>0.500000</td>\n",
       "      <td>0.500000</td>\n",
       "    </tr>\n",
       "    <tr>\n",
       "      <th>2</th>\n",
       "      <td>409486555</td>\n",
       "      <td>MichelleObama</td>\n",
       "      <td>Michelle Obama</td>\n",
       "      <td>I’m thrilled to share that my new  podcast, Th...</td>\n",
       "      <td>2023-02-01 13:35:40+00:00</td>\n",
       "      <td>en</td>\n",
       "      <td>0.550909</td>\n",
       "      <td>0.427273</td>\n",
       "    </tr>\n",
       "    <tr>\n",
       "      <th>3</th>\n",
       "      <td>409486555</td>\n",
       "      <td>MichelleObama</td>\n",
       "      <td>Michelle Obama</td>\n",
       "      <td>I'd love to hear from you. What's a practice o...</td>\n",
       "      <td>2023-01-30 17:07:40+00:00</td>\n",
       "      <td>en</td>\n",
       "      <td>0.600000</td>\n",
       "      <td>0.500000</td>\n",
       "    </tr>\n",
       "    <tr>\n",
       "      <th>4</th>\n",
       "      <td>409486555</td>\n",
       "      <td>MichelleObama</td>\n",
       "      <td>Michelle Obama</td>\n",
       "      <td>For me, the practice I’ve had—and the effort I...</td>\n",
       "      <td>2023-01-30 17:07:39+00:00</td>\n",
       "      <td>en</td>\n",
       "      <td>0.525000</td>\n",
       "      <td>0.258333</td>\n",
       "    </tr>\n",
       "    <tr>\n",
       "      <th>5</th>\n",
       "      <td>409486555</td>\n",
       "      <td>MichelleObama</td>\n",
       "      <td>Michelle Obama</td>\n",
       "      <td>In my book TheLightWeCarry, I share some of th...</td>\n",
       "      <td>2023-01-30 17:07:06+00:00</td>\n",
       "      <td>en</td>\n",
       "      <td>0.250000</td>\n",
       "      <td>0.000000</td>\n",
       "    </tr>\n",
       "    <tr>\n",
       "      <th>6</th>\n",
       "      <td>409486555</td>\n",
       "      <td>MichelleObama</td>\n",
       "      <td>Michelle Obama</td>\n",
       "      <td>Today, we honor Hadiya Pendleton—a beautiful l...</td>\n",
       "      <td>2023-01-29 17:30:04+00:00</td>\n",
       "      <td>en</td>\n",
       "      <td>0.366667</td>\n",
       "      <td>0.250000</td>\n",
       "    </tr>\n",
       "    <tr>\n",
       "      <th>7</th>\n",
       "      <td>409486555</td>\n",
       "      <td>MichelleObama</td>\n",
       "      <td>Michelle Obama</td>\n",
       "      <td>Along with mourning Tyre and supporting his fa...</td>\n",
       "      <td>2023-01-28 18:16:05+00:00</td>\n",
       "      <td>en</td>\n",
       "      <td>0.250000</td>\n",
       "      <td>0.250000</td>\n",
       "    </tr>\n",
       "    <tr>\n",
       "      <th>8</th>\n",
       "      <td>409486555</td>\n",
       "      <td>MichelleObama</td>\n",
       "      <td>Michelle Obama</td>\n",
       "      <td>The vicious, unjustified beating of Tyre Nicho...</td>\n",
       "      <td>2023-01-28 18:15:10+00:00</td>\n",
       "      <td>en</td>\n",
       "      <td>1.000000</td>\n",
       "      <td>-0.500000</td>\n",
       "    </tr>\n",
       "    <tr>\n",
       "      <th>9</th>\n",
       "      <td>409486555</td>\n",
       "      <td>MichelleObama</td>\n",
       "      <td>Michelle Obama</td>\n",
       "      <td>Barack, , and I can’t wait to welcome a new cl...</td>\n",
       "      <td>2023-01-25 15:33:07+00:00</td>\n",
       "      <td>en</td>\n",
       "      <td>0.618182</td>\n",
       "      <td>0.323485</td>\n",
       "    </tr>\n",
       "  </tbody>\n",
       "</table>\n",
       "</div>"
      ],
      "text/plain": [
       "     user_id    screen_name            name  \\\n",
       "0  409486555  MichelleObama  Michelle Obama   \n",
       "1  409486555  MichelleObama  Michelle Obama   \n",
       "2  409486555  MichelleObama  Michelle Obama   \n",
       "3  409486555  MichelleObama  Michelle Obama   \n",
       "4  409486555  MichelleObama  Michelle Obama   \n",
       "5  409486555  MichelleObama  Michelle Obama   \n",
       "6  409486555  MichelleObama  Michelle Obama   \n",
       "7  409486555  MichelleObama  Michelle Obama   \n",
       "8  409486555  MichelleObama  Michelle Obama   \n",
       "9  409486555  MichelleObama  Michelle Obama   \n",
       "\n",
       "                                                text  \\\n",
       "0  Congratulations  for making history. Thank you...   \n",
       "1                      For more information, go to     \n",
       "2  I’m thrilled to share that my new  podcast, Th...   \n",
       "3  I'd love to hear from you. What's a practice o...   \n",
       "4  For me, the practice I’ve had—and the effort I...   \n",
       "5  In my book TheLightWeCarry, I share some of th...   \n",
       "6  Today, we honor Hadiya Pendleton—a beautiful l...   \n",
       "7  Along with mourning Tyre and supporting his fa...   \n",
       "8  The vicious, unjustified beating of Tyre Nicho...   \n",
       "9  Barack, , and I can’t wait to welcome a new cl...   \n",
       "\n",
       "                       date lang  Subjectivity  Polarity  \n",
       "0 2023-02-07 01:00:43+00:00   en      0.500000  0.380682  \n",
       "1 2023-02-01 13:36:06+00:00   en      0.500000  0.500000  \n",
       "2 2023-02-01 13:35:40+00:00   en      0.550909  0.427273  \n",
       "3 2023-01-30 17:07:40+00:00   en      0.600000  0.500000  \n",
       "4 2023-01-30 17:07:39+00:00   en      0.525000  0.258333  \n",
       "5 2023-01-30 17:07:06+00:00   en      0.250000  0.000000  \n",
       "6 2023-01-29 17:30:04+00:00   en      0.366667  0.250000  \n",
       "7 2023-01-28 18:16:05+00:00   en      0.250000  0.250000  \n",
       "8 2023-01-28 18:15:10+00:00   en      1.000000 -0.500000  \n",
       "9 2023-01-25 15:33:07+00:00   en      0.618182  0.323485  "
      ]
     },
     "execution_count": 15,
     "metadata": {},
     "output_type": "execute_result"
    }
   ],
   "source": [
    "df.head(10)"
   ]
  },
  {
   "cell_type": "code",
   "execution_count": 16,
   "metadata": {},
   "outputs": [],
   "source": [
    "#drop all columns having null tweets\n",
    "df = df.drop(df[df['text']==''].index)"
   ]
  },
  {
   "cell_type": "code",
   "execution_count": 17,
   "metadata": {},
   "outputs": [
    {
     "data": {
      "text/html": [
       "<div>\n",
       "<style scoped>\n",
       "    .dataframe tbody tr th:only-of-type {\n",
       "        vertical-align: middle;\n",
       "    }\n",
       "\n",
       "    .dataframe tbody tr th {\n",
       "        vertical-align: top;\n",
       "    }\n",
       "\n",
       "    .dataframe thead th {\n",
       "        text-align: right;\n",
       "    }\n",
       "</style>\n",
       "<table border=\"1\" class=\"dataframe\">\n",
       "  <thead>\n",
       "    <tr style=\"text-align: right;\">\n",
       "      <th></th>\n",
       "      <th>user_id</th>\n",
       "      <th>screen_name</th>\n",
       "      <th>name</th>\n",
       "      <th>text</th>\n",
       "      <th>date</th>\n",
       "      <th>lang</th>\n",
       "      <th>Subjectivity</th>\n",
       "      <th>Polarity</th>\n",
       "    </tr>\n",
       "  </thead>\n",
       "  <tbody>\n",
       "    <tr>\n",
       "      <th>995</th>\n",
       "      <td>409486555</td>\n",
       "      <td>MichelleObama</td>\n",
       "      <td>Michelle Obama</td>\n",
       "      <td>Happy ElectionDay to folks across the country ...</td>\n",
       "      <td>2019-11-05 14:54:07+00:00</td>\n",
       "      <td>en</td>\n",
       "      <td>1.000000</td>\n",
       "      <td>1.000000</td>\n",
       "    </tr>\n",
       "    <tr>\n",
       "      <th>996</th>\n",
       "      <td>409486555</td>\n",
       "      <td>MichelleObama</td>\n",
       "      <td>Michelle Obama</td>\n",
       "      <td>It’s ElectionDay tomorrow in Virginia, New Jer...</td>\n",
       "      <td>2019-11-04 18:56:07+00:00</td>\n",
       "      <td>en</td>\n",
       "      <td>0.671717</td>\n",
       "      <td>0.380682</td>\n",
       "    </tr>\n",
       "    <tr>\n",
       "      <th>997</th>\n",
       "      <td>409486555</td>\n",
       "      <td>MichelleObama</td>\n",
       "      <td>Michelle Obama</td>\n",
       "      <td>Today’s the first day of open enrollment on , ...</td>\n",
       "      <td>2019-11-01 20:37:21+00:00</td>\n",
       "      <td>en</td>\n",
       "      <td>0.444444</td>\n",
       "      <td>0.250000</td>\n",
       "    </tr>\n",
       "    <tr>\n",
       "      <th>998</th>\n",
       "      <td>409486555</td>\n",
       "      <td>MichelleObama</td>\n",
       "      <td>Michelle Obama</td>\n",
       "      <td>“Social change starts with a story.” \\n\\nAt th...</td>\n",
       "      <td>2019-11-01 20:34:44+00:00</td>\n",
       "      <td>en</td>\n",
       "      <td>0.066667</td>\n",
       "      <td>0.033333</td>\n",
       "    </tr>\n",
       "    <tr>\n",
       "      <th>999</th>\n",
       "      <td>409486555</td>\n",
       "      <td>MichelleObama</td>\n",
       "      <td>Michelle Obama</td>\n",
       "      <td>Congrats to the World Champion  and their fans...</td>\n",
       "      <td>2019-10-31 15:45:38+00:00</td>\n",
       "      <td>en</td>\n",
       "      <td>0.750000</td>\n",
       "      <td>0.800000</td>\n",
       "    </tr>\n",
       "  </tbody>\n",
       "</table>\n",
       "</div>"
      ],
      "text/plain": [
       "       user_id    screen_name            name  \\\n",
       "995  409486555  MichelleObama  Michelle Obama   \n",
       "996  409486555  MichelleObama  Michelle Obama   \n",
       "997  409486555  MichelleObama  Michelle Obama   \n",
       "998  409486555  MichelleObama  Michelle Obama   \n",
       "999  409486555  MichelleObama  Michelle Obama   \n",
       "\n",
       "                                                  text  \\\n",
       "995  Happy ElectionDay to folks across the country ...   \n",
       "996  It’s ElectionDay tomorrow in Virginia, New Jer...   \n",
       "997  Today’s the first day of open enrollment on , ...   \n",
       "998  “Social change starts with a story.” \\n\\nAt th...   \n",
       "999  Congrats to the World Champion  and their fans...   \n",
       "\n",
       "                         date lang  Subjectivity  Polarity  \n",
       "995 2019-11-05 14:54:07+00:00   en      1.000000  1.000000  \n",
       "996 2019-11-04 18:56:07+00:00   en      0.671717  0.380682  \n",
       "997 2019-11-01 20:37:21+00:00   en      0.444444  0.250000  \n",
       "998 2019-11-01 20:34:44+00:00   en      0.066667  0.033333  \n",
       "999 2019-10-31 15:45:38+00:00   en      0.750000  0.800000  "
      ]
     },
     "execution_count": 17,
     "metadata": {},
     "output_type": "execute_result"
    }
   ],
   "source": [
    "df.tail()"
   ]
  },
  {
   "cell_type": "code",
   "execution_count": 18,
   "metadata": {},
   "outputs": [
    {
     "data": {
      "text/plain": [
       "user_id         0\n",
       "screen_name     0\n",
       "name            0\n",
       "text            0\n",
       "date            0\n",
       "lang            0\n",
       "Subjectivity    0\n",
       "Polarity        0\n",
       "dtype: int64"
      ]
     },
     "execution_count": 18,
     "metadata": {},
     "output_type": "execute_result"
    }
   ],
   "source": [
    "df.isna().sum()  #no missing data"
   ]
  },
  {
   "cell_type": "code",
   "execution_count": 19,
   "metadata": {},
   "outputs": [],
   "source": [
    "#get sentiment analysis/text analysis \n",
    "\n",
    "#polarity value < 0  -> negative sentiment\n",
    "#polarity value = 0  -> neutral sentiment\n",
    "#polarity value > 0  -> positive sentiment\n",
    "\n",
    "#define a function to classify the sentiment as positive,neutral or negative.\n",
    "\n",
    "def getTextAnalysis(pol):\n",
    "  if pol < 0:\n",
    "    return \"Negative\"\n",
    "  elif pol == 0:\n",
    "    return \"Neutral\"\n",
    "  else:\n",
    "    return \"Positive\""
   ]
  },
  {
   "cell_type": "code",
   "execution_count": 20,
   "metadata": {},
   "outputs": [],
   "source": [
    "df['Sentiment'] = df['Polarity'].apply(getTextAnalysis)"
   ]
  },
  {
   "cell_type": "code",
   "execution_count": 21,
   "metadata": {},
   "outputs": [
    {
     "data": {
      "text/html": [
       "<div>\n",
       "<style scoped>\n",
       "    .dataframe tbody tr th:only-of-type {\n",
       "        vertical-align: middle;\n",
       "    }\n",
       "\n",
       "    .dataframe tbody tr th {\n",
       "        vertical-align: top;\n",
       "    }\n",
       "\n",
       "    .dataframe thead th {\n",
       "        text-align: right;\n",
       "    }\n",
       "</style>\n",
       "<table border=\"1\" class=\"dataframe\">\n",
       "  <thead>\n",
       "    <tr style=\"text-align: right;\">\n",
       "      <th></th>\n",
       "      <th>user_id</th>\n",
       "      <th>screen_name</th>\n",
       "      <th>name</th>\n",
       "      <th>text</th>\n",
       "      <th>date</th>\n",
       "      <th>lang</th>\n",
       "      <th>Subjectivity</th>\n",
       "      <th>Polarity</th>\n",
       "      <th>Sentiment</th>\n",
       "    </tr>\n",
       "  </thead>\n",
       "  <tbody>\n",
       "    <tr>\n",
       "      <th>0</th>\n",
       "      <td>409486555</td>\n",
       "      <td>MichelleObama</td>\n",
       "      <td>Michelle Obama</td>\n",
       "      <td>Congratulations  for making history. Thank you...</td>\n",
       "      <td>2023-02-07 01:00:43+00:00</td>\n",
       "      <td>en</td>\n",
       "      <td>0.500000</td>\n",
       "      <td>0.380682</td>\n",
       "      <td>Positive</td>\n",
       "    </tr>\n",
       "    <tr>\n",
       "      <th>1</th>\n",
       "      <td>409486555</td>\n",
       "      <td>MichelleObama</td>\n",
       "      <td>Michelle Obama</td>\n",
       "      <td>For more information, go to</td>\n",
       "      <td>2023-02-01 13:36:06+00:00</td>\n",
       "      <td>en</td>\n",
       "      <td>0.500000</td>\n",
       "      <td>0.500000</td>\n",
       "      <td>Positive</td>\n",
       "    </tr>\n",
       "    <tr>\n",
       "      <th>2</th>\n",
       "      <td>409486555</td>\n",
       "      <td>MichelleObama</td>\n",
       "      <td>Michelle Obama</td>\n",
       "      <td>I’m thrilled to share that my new  podcast, Th...</td>\n",
       "      <td>2023-02-01 13:35:40+00:00</td>\n",
       "      <td>en</td>\n",
       "      <td>0.550909</td>\n",
       "      <td>0.427273</td>\n",
       "      <td>Positive</td>\n",
       "    </tr>\n",
       "    <tr>\n",
       "      <th>3</th>\n",
       "      <td>409486555</td>\n",
       "      <td>MichelleObama</td>\n",
       "      <td>Michelle Obama</td>\n",
       "      <td>I'd love to hear from you. What's a practice o...</td>\n",
       "      <td>2023-01-30 17:07:40+00:00</td>\n",
       "      <td>en</td>\n",
       "      <td>0.600000</td>\n",
       "      <td>0.500000</td>\n",
       "      <td>Positive</td>\n",
       "    </tr>\n",
       "    <tr>\n",
       "      <th>4</th>\n",
       "      <td>409486555</td>\n",
       "      <td>MichelleObama</td>\n",
       "      <td>Michelle Obama</td>\n",
       "      <td>For me, the practice I’ve had—and the effort I...</td>\n",
       "      <td>2023-01-30 17:07:39+00:00</td>\n",
       "      <td>en</td>\n",
       "      <td>0.525000</td>\n",
       "      <td>0.258333</td>\n",
       "      <td>Positive</td>\n",
       "    </tr>\n",
       "  </tbody>\n",
       "</table>\n",
       "</div>"
      ],
      "text/plain": [
       "     user_id    screen_name            name  \\\n",
       "0  409486555  MichelleObama  Michelle Obama   \n",
       "1  409486555  MichelleObama  Michelle Obama   \n",
       "2  409486555  MichelleObama  Michelle Obama   \n",
       "3  409486555  MichelleObama  Michelle Obama   \n",
       "4  409486555  MichelleObama  Michelle Obama   \n",
       "\n",
       "                                                text  \\\n",
       "0  Congratulations  for making history. Thank you...   \n",
       "1                      For more information, go to     \n",
       "2  I’m thrilled to share that my new  podcast, Th...   \n",
       "3  I'd love to hear from you. What's a practice o...   \n",
       "4  For me, the practice I’ve had—and the effort I...   \n",
       "\n",
       "                       date lang  Subjectivity  Polarity Sentiment  \n",
       "0 2023-02-07 01:00:43+00:00   en      0.500000  0.380682  Positive  \n",
       "1 2023-02-01 13:36:06+00:00   en      0.500000  0.500000  Positive  \n",
       "2 2023-02-01 13:35:40+00:00   en      0.550909  0.427273  Positive  \n",
       "3 2023-01-30 17:07:40+00:00   en      0.600000  0.500000  Positive  \n",
       "4 2023-01-30 17:07:39+00:00   en      0.525000  0.258333  Positive  "
      ]
     },
     "execution_count": 21,
     "metadata": {},
     "output_type": "execute_result"
    }
   ],
   "source": [
    "df.head()"
   ]
  },
  {
   "cell_type": "code",
   "execution_count": 22,
   "metadata": {},
   "outputs": [
    {
     "name": "stdout",
     "output_type": "stream",
     "text": [
      "76% of positive tweets\n"
     ]
    }
   ],
   "source": [
    "#calculate positive percentage\n",
    "positive = df[df['Sentiment']=='Positive']\n",
    "POS = positive.shape[0]/df.shape[0]*100\n",
    "print(str(round(POS))+ \"% of positive tweets\")"
   ]
  },
  {
   "cell_type": "code",
   "execution_count": 23,
   "metadata": {},
   "outputs": [
    {
     "name": "stdout",
     "output_type": "stream",
     "text": [
      "17% of neutral tweets\n"
     ]
    }
   ],
   "source": [
    "#calculate neutral percentage\n",
    "neutral = df[df['Sentiment']=='Neutral']\n",
    "NEU = neutral.shape[0]/df.shape[0]*100\n",
    "print(str(round(NEU))+ \"% of neutral tweets\")"
   ]
  },
  {
   "cell_type": "code",
   "execution_count": 24,
   "metadata": {},
   "outputs": [
    {
     "name": "stdout",
     "output_type": "stream",
     "text": [
      "6% of negative tweets\n"
     ]
    }
   ],
   "source": [
    "#calculate negative percentage\n",
    "negative = df[df['Sentiment']=='Negative']\n",
    "NEG = negative.shape[0]/df.shape[0]*100\n",
    "print(str(round(NEG))+ \"% of negative tweets\")"
   ]
  },
  {
   "cell_type": "code",
   "execution_count": 25,
   "metadata": {},
   "outputs": [
    {
     "data": {
      "image/png": "[encoded data removed]",
      "text/plain": [
       "<Figure size 432x288 with 1 Axes>"
      ]
     },
     "metadata": {},
     "output_type": "display_data"
    }
   ],
   "source": [
    "#Are Michelle’s tweet being mostly positive, neutral or negative? \n",
    "\n",
    "#Visualization using Pie Chart\n",
    "explode = (0,0.1,0)\n",
    "labels = '% Positive Tweets', '% Negative Tweets', '% Neutral Tweets'\n",
    "sizes = [POS,NEG,NEU]\n",
    "colors = ['yellowgreen', 'tomato', 'gold']  \n",
    "\n",
    "fig1, ax1 = plt.subplots()\n",
    "\n",
    "ax1.pie(sizes, explode = explode, labels = labels, colors = colors, autopct = '%1.1f%%', startangle = 120,shadow = True)\n",
    "ax1.axis('equal')  # Equal aspect ratio ensures that pie is drawn as a circle\n",
    "#ax1.set_title('Percentage of Sentiment Analysis')\n",
    "plt.savefig('Pie chart.jpg')\n",
    "plt.show()"
   ]
  },
  {
   "cell_type": "code",
   "execution_count": 26,
   "metadata": {},
   "outputs": [
    {
     "data": {
      "image/png": "[encoded data removed]",
      "text/plain": [
       "<Figure size 432x288 with 1 Axes>"
      ]
     },
     "metadata": {
      "needs_background": "light"
     },
     "output_type": "display_data"
    }
   ],
   "source": [
    "#Visualization using Bar Graph\n",
    "fig2, ax2 = plt.subplots()\n",
    "labels = df.groupby('Sentiment').count().index.values\n",
    "values = df.groupby('Sentiment').size().values\n",
    "barlist = ax2.bar(labels, values)\n",
    "#ax2.set_title('Number of Tweets for each Sentiment')\n",
    "ax2.set_xlabel('Sentiment')\n",
    "ax2.set_ylabel('Count')\n",
    "barlist[0].set_color('tomato') \n",
    "barlist[1].set_color('gold') \n",
    "barlist[2].set_color('yellowgreen')\n",
    "plt.savefig('Bar graph.jpg')\n",
    "plt.show()"
   ]
  },
  {
   "cell_type": "code",
   "execution_count": 27,
   "metadata": {},
   "outputs": [
    {
     "data": {
      "image/png": "[encoded data removed]",
      "text/plain": [
       "<Figure size 432x288 with 1 Axes>"
      ]
     },
     "metadata": {
      "needs_background": "light"
     },
     "output_type": "display_data"
    },
    {
     "data": {
      "image/png": "[encoded data removed]",
      "text/plain": [
       "<Figure size 432x288 with 1 Axes>"
      ]
     },
     "metadata": {
      "needs_background": "light"
     },
     "output_type": "display_data"
    }
   ],
   "source": [
    "# Which words stand out from the sentiment analysis?\n",
    "# now lets visualize the most commonly occuring words using wordcloud\n",
    "\n",
    "# word cloud visualization\n",
    "allWords = ' '.join([twts for twts in df['text']])\n",
    "wordCloud = WordCloud(width=500, height=300, random_state=21, max_font_size=110).generate(allWords)\n",
    "\n",
    "plt.imshow(wordCloud, interpolation=\"bilinear\")\n",
    "plt.axis('off')\n",
    "#plt.title('Total Reviews of Word Cloud')\n",
    "plt.show()\n",
    "plt.axis('off')\n",
    "plt.savefig('Word cloud.jpg')"
   ]
  }
 ],
 "metadata": {
  "kernelspec": {
   "display_name": "Python 3",
   "language": "python",
   "name": "python3"
  },
  "language_info": {
   "codemirror_mode": {
    "name": "ipython",
    "version": 3
   },
   "file_extension": ".py",
   "mimetype": "text/x-python",
   "name": "python",
   "nbconvert_exporter": "python",
   "pygments_lexer": "ipython3",
   "version": "3.8.5"
  }
 },
 "nbformat": 4,
 "nbformat_minor": 4
}
