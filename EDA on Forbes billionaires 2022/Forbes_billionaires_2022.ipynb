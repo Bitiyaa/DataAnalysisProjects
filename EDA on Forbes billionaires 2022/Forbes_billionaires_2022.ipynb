{
 "cells": [
  {
   "cell_type": "markdown",
   "metadata": {},
   "source": [
    "# Forbes billionaires 2022- Exploratory data analysis and visualization "
   ]
  },
  {
   "cell_type": "markdown",
   "metadata": {},
   "source": [
    "# Overview "
   ]
  },
  {
   "cell_type": "code",
   "execution_count": 1,
   "metadata": {},
   "outputs": [],
   "source": [
    "#Billionaires of 2022 curated by Forbes (https://www.forbes.com/billionaires/)"
   ]
  },
  {
   "cell_type": "code",
   "execution_count": 2,
   "metadata": {},
   "outputs": [],
   "source": [
    "#Questions \n",
    "\n",
    "#Who are the top ten billionaire with the highest net worth in 2022\n",
    "#Who are the top 10 youngest billionaires in 2022\n",
    "#Who is the youngest billionaire with the highest net worth in 2022\n",
    "#Which age group has highest net worth in 2022\n",
    "#Which countries have highest number of billionaires in 2022\n",
    "#Which countries have highest cumulative billionaires net worth in 2022\n",
    "#Which industries have highest number of billionaires in 2022\n",
    "#Which industries have highest cumulative billionaires net worth in 2022\n",
    "#Which sources have highest number of billionaires in 2022\n",
    "#Which sources have highest cumulative billionaires net worth in 2022"
   ]
  },
  {
   "cell_type": "code",
   "execution_count": 3,
   "metadata": {},
   "outputs": [],
   "source": [
    "# lets import the necessary libraries  \n",
    "import numpy as np # linear algebra\n",
    "import pandas as pd # data processing\n",
    "import seaborn as sns  #visualization\n",
    "import matplotlib.pyplot as plt  #visualization\n",
    "import matplotlib.colors as mcolors"
   ]
  },
  {
   "cell_type": "markdown",
   "metadata": {},
   "source": [
    "# Data source"
   ]
  },
  {
   "cell_type": "code",
   "execution_count": 4,
   "metadata": {},
   "outputs": [],
   "source": [
    "# data were obtained from kaggle and csv file was downloaded to local machine. \n",
    "#then data were imported using read_csv() method\n",
    "\n",
    "df = pd.read_csv(r\"C:\\Users\\bitiy\\Documents\\PythonProjects\\Forbes_2022\\2022_forbes_billionaires.csv\")"
   ]
  },
  {
   "cell_type": "code",
   "execution_count": 5,
   "metadata": {},
   "outputs": [
    {
     "data": {
      "text/html": [
       "<div>\n",
       "<style scoped>\n",
       "    .dataframe tbody tr th:only-of-type {\n",
       "        vertical-align: middle;\n",
       "    }\n",
       "\n",
       "    .dataframe tbody tr th {\n",
       "        vertical-align: top;\n",
       "    }\n",
       "\n",
       "    .dataframe thead th {\n",
       "        text-align: right;\n",
       "    }\n",
       "</style>\n",
       "<table border=\"1\" class=\"dataframe\">\n",
       "  <thead>\n",
       "    <tr style=\"text-align: right;\">\n",
       "      <th></th>\n",
       "      <th>Unnamed: 0</th>\n",
       "      <th>rank</th>\n",
       "      <th>name</th>\n",
       "      <th>networth</th>\n",
       "      <th>age</th>\n",
       "      <th>country</th>\n",
       "      <th>source</th>\n",
       "      <th>industry</th>\n",
       "    </tr>\n",
       "  </thead>\n",
       "  <tbody>\n",
       "    <tr>\n",
       "      <th>0</th>\n",
       "      <td>0</td>\n",
       "      <td>1</td>\n",
       "      <td>Elon Musk</td>\n",
       "      <td>$219 B</td>\n",
       "      <td>50</td>\n",
       "      <td>United States</td>\n",
       "      <td>Tesla, SpaceX</td>\n",
       "      <td>Automotive</td>\n",
       "    </tr>\n",
       "    <tr>\n",
       "      <th>1</th>\n",
       "      <td>1</td>\n",
       "      <td>2</td>\n",
       "      <td>Jeff Bezos</td>\n",
       "      <td>$171 B</td>\n",
       "      <td>58</td>\n",
       "      <td>United States</td>\n",
       "      <td>Amazon</td>\n",
       "      <td>Technology</td>\n",
       "    </tr>\n",
       "    <tr>\n",
       "      <th>2</th>\n",
       "      <td>2</td>\n",
       "      <td>3</td>\n",
       "      <td>Bernard Arnault &amp; family</td>\n",
       "      <td>$158 B</td>\n",
       "      <td>73</td>\n",
       "      <td>France</td>\n",
       "      <td>LVMH</td>\n",
       "      <td>Fashion &amp; Retail</td>\n",
       "    </tr>\n",
       "    <tr>\n",
       "      <th>3</th>\n",
       "      <td>3</td>\n",
       "      <td>4</td>\n",
       "      <td>Bill Gates</td>\n",
       "      <td>$129 B</td>\n",
       "      <td>66</td>\n",
       "      <td>United States</td>\n",
       "      <td>Microsoft</td>\n",
       "      <td>Technology</td>\n",
       "    </tr>\n",
       "    <tr>\n",
       "      <th>4</th>\n",
       "      <td>4</td>\n",
       "      <td>5</td>\n",
       "      <td>Warren Buffett</td>\n",
       "      <td>$118 B</td>\n",
       "      <td>91</td>\n",
       "      <td>United States</td>\n",
       "      <td>Berkshire Hathaway</td>\n",
       "      <td>Finance &amp; Investments</td>\n",
       "    </tr>\n",
       "  </tbody>\n",
       "</table>\n",
       "</div>"
      ],
      "text/plain": [
       "   Unnamed: 0  rank                       name networth  age        country  \\\n",
       "0           0     1                 Elon Musk    $219 B   50  United States   \n",
       "1           1     2                Jeff Bezos    $171 B   58  United States   \n",
       "2           2     3  Bernard Arnault & family    $158 B   73         France   \n",
       "3           3     4                Bill Gates    $129 B   66  United States   \n",
       "4           4     5            Warren Buffett    $118 B   91  United States   \n",
       "\n",
       "               source                industry  \n",
       "0       Tesla, SpaceX             Automotive   \n",
       "1              Amazon             Technology   \n",
       "2                LVMH       Fashion & Retail   \n",
       "3           Microsoft             Technology   \n",
       "4  Berkshire Hathaway  Finance & Investments   "
      ]
     },
     "execution_count": 5,
     "metadata": {},
     "output_type": "execute_result"
    }
   ],
   "source": [
    "#inspect the data using head(), info(), column() methods\n",
    "df.head()"
   ]
  },
  {
   "cell_type": "code",
   "execution_count": 6,
   "metadata": {},
   "outputs": [
    {
     "name": "stdout",
     "output_type": "stream",
     "text": [
      "<class 'pandas.core.frame.DataFrame'>\n",
      "RangeIndex: 2600 entries, 0 to 2599\n",
      "Data columns (total 8 columns):\n",
      " #   Column      Non-Null Count  Dtype \n",
      "---  ------      --------------  ----- \n",
      " 0   Unnamed: 0  2600 non-null   int64 \n",
      " 1   rank        2600 non-null   int64 \n",
      " 2   name        2600 non-null   object\n",
      " 3   networth    2600 non-null   object\n",
      " 4   age         2600 non-null   int64 \n",
      " 5   country     2600 non-null   object\n",
      " 6   source      2600 non-null   object\n",
      " 7   industry    2600 non-null   object\n",
      "dtypes: int64(3), object(5)\n",
      "memory usage: 162.6+ KB\n"
     ]
    }
   ],
   "source": [
    "df.info()    # help us get general information about the data\n",
    "  # as we can see 'networth' and 'age' columns have object and integer data type respectively. "
   ]
  },
  {
   "cell_type": "code",
   "execution_count": 7,
   "metadata": {},
   "outputs": [
    {
     "data": {
      "text/plain": [
       "Index(['Unnamed: 0', 'rank', 'name', 'networth', 'age', 'country', 'source',\n",
       "       'industry'],\n",
       "      dtype='object')"
      ]
     },
     "execution_count": 7,
     "metadata": {},
     "output_type": "execute_result"
    }
   ],
   "source": [
    "# list the columns names\n",
    "df.columns     # we have columns that were not needed for this analysis. \n",
    "               #so unnamed and rank will be removed or select only the required columns"
   ]
  },
  {
   "cell_type": "markdown",
   "metadata": {},
   "source": [
    "# Data cleaning "
   ]
  },
  {
   "cell_type": "code",
   "execution_count": 8,
   "metadata": {},
   "outputs": [
    {
     "data": {
      "text/html": [
       "<div>\n",
       "<style scoped>\n",
       "    .dataframe tbody tr th:only-of-type {\n",
       "        vertical-align: middle;\n",
       "    }\n",
       "\n",
       "    .dataframe tbody tr th {\n",
       "        vertical-align: top;\n",
       "    }\n",
       "\n",
       "    .dataframe thead th {\n",
       "        text-align: right;\n",
       "    }\n",
       "</style>\n",
       "<table border=\"1\" class=\"dataframe\">\n",
       "  <thead>\n",
       "    <tr style=\"text-align: right;\">\n",
       "      <th></th>\n",
       "      <th>name</th>\n",
       "      <th>networth</th>\n",
       "      <th>age</th>\n",
       "      <th>country</th>\n",
       "      <th>source</th>\n",
       "      <th>industry</th>\n",
       "    </tr>\n",
       "  </thead>\n",
       "  <tbody>\n",
       "    <tr>\n",
       "      <th>0</th>\n",
       "      <td>Elon Musk</td>\n",
       "      <td>$219 B</td>\n",
       "      <td>50</td>\n",
       "      <td>United States</td>\n",
       "      <td>Tesla, SpaceX</td>\n",
       "      <td>Automotive</td>\n",
       "    </tr>\n",
       "    <tr>\n",
       "      <th>1</th>\n",
       "      <td>Jeff Bezos</td>\n",
       "      <td>$171 B</td>\n",
       "      <td>58</td>\n",
       "      <td>United States</td>\n",
       "      <td>Amazon</td>\n",
       "      <td>Technology</td>\n",
       "    </tr>\n",
       "    <tr>\n",
       "      <th>2</th>\n",
       "      <td>Bernard Arnault &amp; family</td>\n",
       "      <td>$158 B</td>\n",
       "      <td>73</td>\n",
       "      <td>France</td>\n",
       "      <td>LVMH</td>\n",
       "      <td>Fashion &amp; Retail</td>\n",
       "    </tr>\n",
       "    <tr>\n",
       "      <th>3</th>\n",
       "      <td>Bill Gates</td>\n",
       "      <td>$129 B</td>\n",
       "      <td>66</td>\n",
       "      <td>United States</td>\n",
       "      <td>Microsoft</td>\n",
       "      <td>Technology</td>\n",
       "    </tr>\n",
       "    <tr>\n",
       "      <th>4</th>\n",
       "      <td>Warren Buffett</td>\n",
       "      <td>$118 B</td>\n",
       "      <td>91</td>\n",
       "      <td>United States</td>\n",
       "      <td>Berkshire Hathaway</td>\n",
       "      <td>Finance &amp; Investments</td>\n",
       "    </tr>\n",
       "  </tbody>\n",
       "</table>\n",
       "</div>"
      ],
      "text/plain": [
       "                        name networth  age        country              source  \\\n",
       "0                 Elon Musk    $219 B   50  United States       Tesla, SpaceX   \n",
       "1                Jeff Bezos    $171 B   58  United States              Amazon   \n",
       "2  Bernard Arnault & family    $158 B   73         France                LVMH   \n",
       "3                Bill Gates    $129 B   66  United States           Microsoft   \n",
       "4            Warren Buffett    $118 B   91  United States  Berkshire Hathaway   \n",
       "\n",
       "                 industry  \n",
       "0             Automotive   \n",
       "1             Technology   \n",
       "2       Fashion & Retail   \n",
       "3             Technology   \n",
       "4  Finance & Investments   "
      ]
     },
     "execution_count": 8,
     "metadata": {},
     "output_type": "execute_result"
    }
   ],
   "source": [
    "# lets select columns required for this analysis\n",
    "df_selected = df[['name','networth','age','country','source','industry']]\n",
    "df_selected.head()"
   ]
  },
  {
   "cell_type": "code",
   "execution_count": 9,
   "metadata": {},
   "outputs": [
    {
     "data": {
      "text/html": [
       "<div>\n",
       "<style scoped>\n",
       "    .dataframe tbody tr th:only-of-type {\n",
       "        vertical-align: middle;\n",
       "    }\n",
       "\n",
       "    .dataframe tbody tr th {\n",
       "        vertical-align: top;\n",
       "    }\n",
       "\n",
       "    .dataframe thead th {\n",
       "        text-align: right;\n",
       "    }\n",
       "</style>\n",
       "<table border=\"1\" class=\"dataframe\">\n",
       "  <thead>\n",
       "    <tr style=\"text-align: right;\">\n",
       "      <th></th>\n",
       "      <th>Name</th>\n",
       "      <th>Networth $B</th>\n",
       "      <th>Age</th>\n",
       "      <th>Country</th>\n",
       "      <th>Source</th>\n",
       "      <th>Industry</th>\n",
       "    </tr>\n",
       "  </thead>\n",
       "  <tbody>\n",
       "    <tr>\n",
       "      <th>0</th>\n",
       "      <td>Elon Musk</td>\n",
       "      <td>$219 B</td>\n",
       "      <td>50</td>\n",
       "      <td>United States</td>\n",
       "      <td>Tesla, SpaceX</td>\n",
       "      <td>Automotive</td>\n",
       "    </tr>\n",
       "    <tr>\n",
       "      <th>1</th>\n",
       "      <td>Jeff Bezos</td>\n",
       "      <td>$171 B</td>\n",
       "      <td>58</td>\n",
       "      <td>United States</td>\n",
       "      <td>Amazon</td>\n",
       "      <td>Technology</td>\n",
       "    </tr>\n",
       "    <tr>\n",
       "      <th>2</th>\n",
       "      <td>Bernard Arnault &amp; family</td>\n",
       "      <td>$158 B</td>\n",
       "      <td>73</td>\n",
       "      <td>France</td>\n",
       "      <td>LVMH</td>\n",
       "      <td>Fashion &amp; Retail</td>\n",
       "    </tr>\n",
       "    <tr>\n",
       "      <th>3</th>\n",
       "      <td>Bill Gates</td>\n",
       "      <td>$129 B</td>\n",
       "      <td>66</td>\n",
       "      <td>United States</td>\n",
       "      <td>Microsoft</td>\n",
       "      <td>Technology</td>\n",
       "    </tr>\n",
       "    <tr>\n",
       "      <th>4</th>\n",
       "      <td>Warren Buffett</td>\n",
       "      <td>$118 B</td>\n",
       "      <td>91</td>\n",
       "      <td>United States</td>\n",
       "      <td>Berkshire Hathaway</td>\n",
       "      <td>Finance &amp; Investments</td>\n",
       "    </tr>\n",
       "  </tbody>\n",
       "</table>\n",
       "</div>"
      ],
      "text/plain": [
       "                        Name Networth $B  Age        Country  \\\n",
       "0                 Elon Musk       $219 B   50  United States   \n",
       "1                Jeff Bezos       $171 B   58  United States   \n",
       "2  Bernard Arnault & family       $158 B   73         France   \n",
       "3                Bill Gates       $129 B   66  United States   \n",
       "4            Warren Buffett       $118 B   91  United States   \n",
       "\n",
       "               Source                Industry  \n",
       "0       Tesla, SpaceX             Automotive   \n",
       "1              Amazon             Technology   \n",
       "2                LVMH       Fashion & Retail   \n",
       "3           Microsoft             Technology   \n",
       "4  Berkshire Hathaway  Finance & Investments   "
      ]
     },
     "execution_count": 9,
     "metadata": {},
     "output_type": "execute_result"
    }
   ],
   "source": [
    "# all the column names are in lower case. i prefer to have upper case for the first letter. using rename method the first letter for each word were changed. \n",
    "#The $B inluded on the networth column title to reflacte the unit of mesurment\n",
    "df = df_selected.rename({'name':'Name','networth':'Networth $B','age':'Age','country':'Country','source':'Source','industry':'Industry'},axis = 1)\n",
    "df.head()"
   ]
  },
  {
   "cell_type": "code",
   "execution_count": 10,
   "metadata": {},
   "outputs": [],
   "source": [
    "# we can see that the Networth column has characters. so lets get rid of them\n",
    "\n",
    "df['Networth $B']= df['Networth $B'].str.replace('$','')\n",
    "df['Networth $B']= df['Networth $B'].str.replace('B','')\n"
   ]
  },
  {
   "cell_type": "code",
   "execution_count": 11,
   "metadata": {},
   "outputs": [
    {
     "data": {
      "text/html": [
       "<div>\n",
       "<style scoped>\n",
       "    .dataframe tbody tr th:only-of-type {\n",
       "        vertical-align: middle;\n",
       "    }\n",
       "\n",
       "    .dataframe tbody tr th {\n",
       "        vertical-align: top;\n",
       "    }\n",
       "\n",
       "    .dataframe thead th {\n",
       "        text-align: right;\n",
       "    }\n",
       "</style>\n",
       "<table border=\"1\" class=\"dataframe\">\n",
       "  <thead>\n",
       "    <tr style=\"text-align: right;\">\n",
       "      <th></th>\n",
       "      <th>Name</th>\n",
       "      <th>Networth $B</th>\n",
       "      <th>Age</th>\n",
       "      <th>Country</th>\n",
       "      <th>Source</th>\n",
       "      <th>Industry</th>\n",
       "    </tr>\n",
       "  </thead>\n",
       "  <tbody>\n",
       "    <tr>\n",
       "      <th>0</th>\n",
       "      <td>Elon Musk</td>\n",
       "      <td>219.0</td>\n",
       "      <td>50.0</td>\n",
       "      <td>United States</td>\n",
       "      <td>Tesla, SpaceX</td>\n",
       "      <td>Automotive</td>\n",
       "    </tr>\n",
       "    <tr>\n",
       "      <th>1</th>\n",
       "      <td>Jeff Bezos</td>\n",
       "      <td>171.0</td>\n",
       "      <td>58.0</td>\n",
       "      <td>United States</td>\n",
       "      <td>Amazon</td>\n",
       "      <td>Technology</td>\n",
       "    </tr>\n",
       "    <tr>\n",
       "      <th>2</th>\n",
       "      <td>Bernard Arnault &amp; family</td>\n",
       "      <td>158.0</td>\n",
       "      <td>73.0</td>\n",
       "      <td>France</td>\n",
       "      <td>LVMH</td>\n",
       "      <td>Fashion &amp; Retail</td>\n",
       "    </tr>\n",
       "    <tr>\n",
       "      <th>3</th>\n",
       "      <td>Bill Gates</td>\n",
       "      <td>129.0</td>\n",
       "      <td>66.0</td>\n",
       "      <td>United States</td>\n",
       "      <td>Microsoft</td>\n",
       "      <td>Technology</td>\n",
       "    </tr>\n",
       "    <tr>\n",
       "      <th>4</th>\n",
       "      <td>Warren Buffett</td>\n",
       "      <td>118.0</td>\n",
       "      <td>91.0</td>\n",
       "      <td>United States</td>\n",
       "      <td>Berkshire Hathaway</td>\n",
       "      <td>Finance &amp; Investments</td>\n",
       "    </tr>\n",
       "  </tbody>\n",
       "</table>\n",
       "</div>"
      ],
      "text/plain": [
       "                        Name  Networth $B   Age        Country  \\\n",
       "0                 Elon Musk         219.0  50.0  United States   \n",
       "1                Jeff Bezos         171.0  58.0  United States   \n",
       "2  Bernard Arnault & family         158.0  73.0         France   \n",
       "3                Bill Gates         129.0  66.0  United States   \n",
       "4            Warren Buffett         118.0  91.0  United States   \n",
       "\n",
       "               Source                Industry  \n",
       "0       Tesla, SpaceX             Automotive   \n",
       "1              Amazon             Technology   \n",
       "2                LVMH       Fashion & Retail   \n",
       "3           Microsoft             Technology   \n",
       "4  Berkshire Hathaway  Finance & Investments   "
      ]
     },
     "execution_count": 11,
     "metadata": {},
     "output_type": "execute_result"
    }
   ],
   "source": [
    "#Networth and age were object and integer data type respectively. \n",
    "#lets change the data type of 'Networth $B' & 'Age' columns \n",
    "df['Networth $B']= pd.to_numeric(df['Networth $B'])\n",
    "\n",
    "df['Age'] = df['Age'].astype(float)\n",
    "\n",
    "df.head()"
   ]
  },
  {
   "cell_type": "code",
   "execution_count": 12,
   "metadata": {},
   "outputs": [
    {
     "data": {
      "text/plain": [
       "Name            object\n",
       "Networth $B    float64\n",
       "Age            float64\n",
       "Country         object\n",
       "Source          object\n",
       "Industry        object\n",
       "dtype: object"
      ]
     },
     "execution_count": 12,
     "metadata": {},
     "output_type": "execute_result"
    }
   ],
   "source": [
    "#Let’s check the data type of those columns\n",
    "df.dtypes   # to check the data type of each column after changing the data type\n"
   ]
  },
  {
   "cell_type": "code",
   "execution_count": 13,
   "metadata": {},
   "outputs": [
    {
     "name": "stdout",
     "output_type": "stream",
     "text": [
      "<class 'pandas.core.frame.DataFrame'>\n",
      "RangeIndex: 2600 entries, 0 to 2599\n",
      "Data columns (total 6 columns):\n",
      " #   Column       Non-Null Count  Dtype  \n",
      "---  ------       --------------  -----  \n",
      " 0   Name         2600 non-null   object \n",
      " 1   Networth $B  2600 non-null   float64\n",
      " 2   Age          2600 non-null   float64\n",
      " 3   Country      2600 non-null   object \n",
      " 4   Source       2600 non-null   object \n",
      " 5   Industry     2600 non-null   object \n",
      "dtypes: float64(2), object(4)\n",
      "memory usage: 122.0+ KB\n"
     ]
    }
   ],
   "source": [
    "df.info()"
   ]
  },
  {
   "cell_type": "code",
   "execution_count": 14,
   "metadata": {},
   "outputs": [
    {
     "data": {
      "text/plain": [
       "0       False\n",
       "1       False\n",
       "2       False\n",
       "3       False\n",
       "4       False\n",
       "        ...  \n",
       "2595    False\n",
       "2596    False\n",
       "2597    False\n",
       "2598    False\n",
       "2599    False\n",
       "Length: 2600, dtype: bool"
      ]
     },
     "execution_count": 14,
     "metadata": {},
     "output_type": "execute_result"
    }
   ],
   "source": [
    "# check if there are duplicates in the data\n",
    "df.duplicated()      #no duplicates in the data"
   ]
  },
  {
   "cell_type": "code",
   "execution_count": 15,
   "metadata": {},
   "outputs": [
    {
     "data": {
      "text/plain": [
       "Name           0\n",
       "Networth $B    0\n",
       "Age            0\n",
       "Country        0\n",
       "Source         0\n",
       "Industry       0\n",
       "dtype: int64"
      ]
     },
     "execution_count": 15,
     "metadata": {},
     "output_type": "execute_result"
    }
   ],
   "source": [
    "# check for missing values \n",
    "df.isnull().sum()    #no missing data"
   ]
  },
  {
   "cell_type": "code",
   "execution_count": 16,
   "metadata": {},
   "outputs": [
    {
     "data": {
      "image/png": "[encoded data removed]",
      "text/plain": [
       "<Figure size 720x360 with 1 Axes>"
      ]
     },
     "metadata": {
      "needs_background": "light"
     },
     "output_type": "display_data"
    }
   ],
   "source": [
    "#check for distribution of continuous variables\n",
    "\n",
    "# check for distribution of Age\n",
    "plt.figure(figsize=(10,5))\n",
    "plt.xlim(0,120)\n",
    "plt.xlabel('Age')\n",
    "plt.ylabel('Density')\n",
    "sns.kdeplot(df['Age'],shade=True)\n",
    "plt.title(\"Age Distribution\")\n",
    "plt.show()       #it looks like age is normally distributed "
   ]
  },
  {
   "cell_type": "code",
   "execution_count": 17,
   "metadata": {},
   "outputs": [
    {
     "data": {
      "image/png": "[encoded data removed]",
      "text/plain": [
       "<Figure size 720x360 with 1 Axes>"
      ]
     },
     "metadata": {
      "needs_background": "light"
     },
     "output_type": "display_data"
    }
   ],
   "source": [
    "# check for distribution of Networth $B\n",
    "plt.figure(figsize=(10,5))\n",
    "plt.xlim(0,250)\n",
    "plt.xlabel('Networth $B')\n",
    "plt.ylabel('Density')\n",
    "plt.title(\"Networth $B Distribution\")\n",
    "sns.kdeplot(df['Networth $B'],shade=True)\n",
    "plt.show()     #Networth is skiwed to the right "
   ]
  },
  {
   "cell_type": "code",
   "execution_count": 18,
   "metadata": {},
   "outputs": [
    {
     "data": {
      "text/plain": [
       "<seaborn.axisgrid.FacetGrid at 0x218f7dacb80>"
      ]
     },
     "execution_count": 18,
     "metadata": {},
     "output_type": "execute_result"
    },
    {
     "data": {
      "image/png": "[encoded data removed]",
      "text/plain": [
       "<Figure size 360x360 with 1 Axes>"
      ]
     },
     "metadata": {
      "needs_background": "light"
     },
     "output_type": "display_data"
    }
   ],
   "source": [
    "sns.displot(df['Networth $B'])"
   ]
  },
  {
   "cell_type": "code",
   "execution_count": 19,
   "metadata": {},
   "outputs": [
    {
     "data": {
      "text/plain": [
       "<AxesSubplot:xlabel='Networth $B'>"
      ]
     },
     "execution_count": 19,
     "metadata": {},
     "output_type": "execute_result"
    },
    {
     "data": {
      "image/png": "[encoded data removed]",
      "text/plain": [
       "<Figure size 432x288 with 1 Axes>"
      ]
     },
     "metadata": {
      "needs_background": "light"
     },
     "output_type": "display_data"
    }
   ],
   "source": [
    "sns.boxplot(x=df['Networth $B'])"
   ]
  },
  {
   "cell_type": "code",
   "execution_count": 20,
   "metadata": {
    "scrolled": true
   },
   "outputs": [
    {
     "data": {
      "text/html": [
       "<div>\n",
       "<style scoped>\n",
       "    .dataframe tbody tr th:only-of-type {\n",
       "        vertical-align: middle;\n",
       "    }\n",
       "\n",
       "    .dataframe tbody tr th {\n",
       "        vertical-align: top;\n",
       "    }\n",
       "\n",
       "    .dataframe thead th {\n",
       "        text-align: right;\n",
       "    }\n",
       "</style>\n",
       "<table border=\"1\" class=\"dataframe\">\n",
       "  <thead>\n",
       "    <tr style=\"text-align: right;\">\n",
       "      <th></th>\n",
       "      <th>Name</th>\n",
       "      <th>Networth $B</th>\n",
       "      <th>Age</th>\n",
       "      <th>Country</th>\n",
       "      <th>Source</th>\n",
       "      <th>Industry</th>\n",
       "      <th>Agegroup</th>\n",
       "    </tr>\n",
       "  </thead>\n",
       "  <tbody>\n",
       "    <tr>\n",
       "      <th>0</th>\n",
       "      <td>Elon Musk</td>\n",
       "      <td>219.0</td>\n",
       "      <td>50.0</td>\n",
       "      <td>United States</td>\n",
       "      <td>Tesla, SpaceX</td>\n",
       "      <td>Automotive</td>\n",
       "      <td>40-59</td>\n",
       "    </tr>\n",
       "    <tr>\n",
       "      <th>1</th>\n",
       "      <td>Jeff Bezos</td>\n",
       "      <td>171.0</td>\n",
       "      <td>58.0</td>\n",
       "      <td>United States</td>\n",
       "      <td>Amazon</td>\n",
       "      <td>Technology</td>\n",
       "      <td>40-59</td>\n",
       "    </tr>\n",
       "    <tr>\n",
       "      <th>2</th>\n",
       "      <td>Bernard Arnault &amp; family</td>\n",
       "      <td>158.0</td>\n",
       "      <td>73.0</td>\n",
       "      <td>France</td>\n",
       "      <td>LVMH</td>\n",
       "      <td>Fashion &amp; Retail</td>\n",
       "      <td>60-79</td>\n",
       "    </tr>\n",
       "    <tr>\n",
       "      <th>3</th>\n",
       "      <td>Bill Gates</td>\n",
       "      <td>129.0</td>\n",
       "      <td>66.0</td>\n",
       "      <td>United States</td>\n",
       "      <td>Microsoft</td>\n",
       "      <td>Technology</td>\n",
       "      <td>60-79</td>\n",
       "    </tr>\n",
       "    <tr>\n",
       "      <th>4</th>\n",
       "      <td>Warren Buffett</td>\n",
       "      <td>118.0</td>\n",
       "      <td>91.0</td>\n",
       "      <td>United States</td>\n",
       "      <td>Berkshire Hathaway</td>\n",
       "      <td>Finance &amp; Investments</td>\n",
       "      <td>80 and above</td>\n",
       "    </tr>\n",
       "    <tr>\n",
       "      <th>5</th>\n",
       "      <td>Larry Page</td>\n",
       "      <td>111.0</td>\n",
       "      <td>49.0</td>\n",
       "      <td>United States</td>\n",
       "      <td>Google</td>\n",
       "      <td>Technology</td>\n",
       "      <td>40-59</td>\n",
       "    </tr>\n",
       "    <tr>\n",
       "      <th>6</th>\n",
       "      <td>Sergey Brin</td>\n",
       "      <td>107.0</td>\n",
       "      <td>48.0</td>\n",
       "      <td>United States</td>\n",
       "      <td>Google</td>\n",
       "      <td>Technology</td>\n",
       "      <td>40-59</td>\n",
       "    </tr>\n",
       "    <tr>\n",
       "      <th>7</th>\n",
       "      <td>Larry Ellison</td>\n",
       "      <td>106.0</td>\n",
       "      <td>77.0</td>\n",
       "      <td>United States</td>\n",
       "      <td>software</td>\n",
       "      <td>Technology</td>\n",
       "      <td>60-79</td>\n",
       "    </tr>\n",
       "    <tr>\n",
       "      <th>8</th>\n",
       "      <td>Steve Ballmer</td>\n",
       "      <td>91.4</td>\n",
       "      <td>66.0</td>\n",
       "      <td>United States</td>\n",
       "      <td>Microsoft</td>\n",
       "      <td>Technology</td>\n",
       "      <td>60-79</td>\n",
       "    </tr>\n",
       "    <tr>\n",
       "      <th>9</th>\n",
       "      <td>Mukesh Ambani</td>\n",
       "      <td>90.7</td>\n",
       "      <td>64.0</td>\n",
       "      <td>India</td>\n",
       "      <td>diversified</td>\n",
       "      <td>Diversified</td>\n",
       "      <td>60-79</td>\n",
       "    </tr>\n",
       "  </tbody>\n",
       "</table>\n",
       "</div>"
      ],
      "text/plain": [
       "                        Name  Networth $B   Age        Country  \\\n",
       "0                 Elon Musk         219.0  50.0  United States   \n",
       "1                Jeff Bezos         171.0  58.0  United States   \n",
       "2  Bernard Arnault & family         158.0  73.0         France   \n",
       "3                Bill Gates         129.0  66.0  United States   \n",
       "4            Warren Buffett         118.0  91.0  United States   \n",
       "5                Larry Page         111.0  49.0  United States   \n",
       "6               Sergey Brin         107.0  48.0  United States   \n",
       "7             Larry Ellison         106.0  77.0  United States   \n",
       "8             Steve Ballmer          91.4  66.0  United States   \n",
       "9             Mukesh Ambani          90.7  64.0          India   \n",
       "\n",
       "               Source                Industry      Agegroup  \n",
       "0       Tesla, SpaceX             Automotive          40-59  \n",
       "1              Amazon             Technology          40-59  \n",
       "2                LVMH       Fashion & Retail          60-79  \n",
       "3           Microsoft             Technology          60-79  \n",
       "4  Berkshire Hathaway  Finance & Investments   80 and above  \n",
       "5              Google             Technology          40-59  \n",
       "6              Google             Technology          40-59  \n",
       "7            software             Technology          60-79  \n",
       "8           Microsoft             Technology          60-79  \n",
       "9         diversified            Diversified          60-79  "
      ]
     },
     "execution_count": 20,
     "metadata": {},
     "output_type": "execute_result"
    }
   ],
   "source": [
    "#Transform age to create new varible called Agegroup\n",
    "\n",
    "df=df.assign(Agegroup=pd.cut(df['Age'], bins=[19, 39, 59, 79,100], right=False,include_lowest=True, labels=[\"below 40\", \"40-59\", \"60-79\", \"80 and above\"]))\n",
    "df.head(10)"
   ]
  },
  {
   "cell_type": "markdown",
   "metadata": {},
   "source": [
    "# Analysis "
   ]
  },
  {
   "cell_type": "code",
   "execution_count": 21,
   "metadata": {},
   "outputs": [
    {
     "name": "stdout",
     "output_type": "stream",
     "text": [
      "Mean age was 64.3 years\n"
     ]
    }
   ],
   "source": [
    "# descriptive analysis\n",
    "Mean_age= round(df['Age'].mean(),1)\n",
    "print(\"Mean age was\",Mean_age,'years')"
   ]
  },
  {
   "cell_type": "code",
   "execution_count": 22,
   "metadata": {},
   "outputs": [
    {
     "name": "stdout",
     "output_type": "stream",
     "text": [
      "Standard Deviation of age was 13.2\n"
     ]
    }
   ],
   "source": [
    "# finding the Standard deviation\n",
    "print(\"Standard Deviation of age was\",round(df['Age'].std(),1))    #the mean(+-sd) of age of the billionnaire were 64.3(13.2) years"
   ]
  },
  {
   "cell_type": "code",
   "execution_count": 23,
   "metadata": {},
   "outputs": [
    {
     "name": "stdout",
     "output_type": "stream",
     "text": [
      "The minimum age was : 19.0 years old\n",
      "The maximum age was : 100.0 years old\n"
     ]
    }
   ],
   "source": [
    "minimum_age=df[\"Age\"].min()\n",
    "maximum_age=df[\"Age\"].max()\n",
    "\n",
    "print(\"The minimum age was :\", minimum_age, \"years old\" )\n",
    "print(\"The maximum age was :\", maximum_age, \"years old\" )"
   ]
  },
  {
   "cell_type": "code",
   "execution_count": 24,
   "metadata": {},
   "outputs": [
    {
     "data": {
      "text/plain": [
       "60-79           1313\n",
       "40-59            826\n",
       "80 and above     393\n",
       "below 40          67\n",
       "Name: Agegroup, dtype: int64"
      ]
     },
     "execution_count": 24,
     "metadata": {},
     "output_type": "execute_result"
    }
   ],
   "source": [
    "#lets count the number of billionarries in each age group\n",
    "df['Agegroup'].value_counts()    #In the year 2022, majority of billionaries were in the age range of 60-79 followed by 40-59. only 67 billinonairs who are under the age of 40."
   ]
  },
  {
   "cell_type": "code",
   "execution_count": 25,
   "metadata": {},
   "outputs": [
    {
     "data": {
      "text/plain": [
       "Agegroup\n",
       "60-79           1313\n",
       "40-59            826\n",
       "80 and above     393\n",
       "below 40          67\n",
       "Name: Agegroup, dtype: int64"
      ]
     },
     "execution_count": 25,
     "metadata": {},
     "output_type": "execute_result"
    }
   ],
   "source": [
    "#Which agegroup has highest number of billionaires\n",
    "\n",
    "df['Agegroup'].value_counts().rename_axis('Agegroup')  #"
   ]
  },
  {
   "cell_type": "code",
   "execution_count": 26,
   "metadata": {},
   "outputs": [
    {
     "data": {
      "image/png": "[encoded data removed]",
      "text/plain": [
       "<Figure size 432x288 with 1 Axes>"
      ]
     },
     "metadata": {},
     "output_type": "display_data"
    }
   ],
   "source": [
    "#define data\n",
    "data = [1313,  826, 393, 67]\n",
    "labels = ['60-79', '40-59', '80 and above', 'below 40']\n",
    "\n",
    "#define Seaborn color palette to use\n",
    "colors = sns.color_palette('deep')[0:4]\n",
    "\n",
    "#create pie chart\n",
    "plt.pie(data, labels = labels, colors = colors, autopct='%1.1f%%')\n",
    "plt.show()"
   ]
  },
  {
   "cell_type": "code",
   "execution_count": 27,
   "metadata": {},
   "outputs": [
    {
     "data": {
      "image/png": "[encoded data removed]",
      "text/plain": [
       "<Figure size 432x288 with 1 Axes>"
      ]
     },
     "metadata": {},
     "output_type": "display_data"
    }
   ],
   "source": [
    "#define data\n",
    "data = [1313,  826, 393, 67]\n",
    "labels = ['60-79', '40-59', '80 and above', 'below 40']\n",
    "\n",
    "#define Seaborn color palette to use\n",
    "#colors = sns.color_palette('deep')[0:4]\n",
    "explode = [0.1, 0, 0, 0]\n",
    "\n",
    "# Seaborn color palette to plot pie chart\n",
    "colors = sns.color_palette('bright')\n",
    "\n",
    "# create pie chart using matplotlib\n",
    "plt.pie(data, labels=labels, colors=colors,\n",
    "        autopct='%1.1f%%', explode=explode, shadow=True, rotatelabels='true',startangle=40)    \n",
    "plt.title('Forbes Billionaires Age group, 2022')\n",
    "plt.axis('equal')\n",
    "plt.show()"
   ]
  },
  {
   "cell_type": "code",
   "execution_count": 28,
   "metadata": {},
   "outputs": [
    {
     "name": "stdout",
     "output_type": "stream",
     "text": [
      "The median networth of the billionnaire was 2.4 billion$ in 2022\n"
     ]
    }
   ],
   "source": [
    "# since networth is skiwed we cannot use mean. so i will use median to describe it.\n",
    "Median_Networth= df['Networth $B'].median()\n",
    "print(\"The median networth of the billionnaire was\",Median_Networth,\"billion$ in 2022\")     "
   ]
  },
  {
   "cell_type": "code",
   "execution_count": 29,
   "metadata": {},
   "outputs": [
    {
     "data": {
      "text/plain": [
       "Age            55.0\n",
       "Networth $B     1.5\n",
       "Name: 0.25, dtype: float64"
      ]
     },
     "execution_count": 29,
     "metadata": {},
     "output_type": "execute_result"
    }
   ],
   "source": [
    "#finding 25th percentile of age and Networth columns\n",
    "df[['Age', 'Networth $B']].quantile(.25)  #25th percentile of billionnaiers age were below 55 years \n",
    "                                          #25th percentile of billionnaiers newtworth were below 1.5B$ "
   ]
  },
  {
   "cell_type": "code",
   "execution_count": 30,
   "metadata": {},
   "outputs": [
    {
     "data": {
      "text/plain": [
       "Age            64.0\n",
       "Networth $B     2.4\n",
       "Name: 0.5, dtype: float64"
      ]
     },
     "execution_count": 30,
     "metadata": {},
     "output_type": "execute_result"
    }
   ],
   "source": [
    "#finding 50th percentile of age and Networth columns\n",
    "df[['Age', 'Networth $B']].quantile(.50)  #50th percentile of billionnaiers age were below 64 years \n",
    "                                          #50th percentile of billionnaiers newtworth were below 2.4B$"
   ]
  },
  {
   "cell_type": "code",
   "execution_count": 31,
   "metadata": {},
   "outputs": [
    {
     "data": {
      "text/plain": [
       "Age            74.0\n",
       "Networth $B     4.5\n",
       "Name: 0.75, dtype: float64"
      ]
     },
     "execution_count": 31,
     "metadata": {},
     "output_type": "execute_result"
    }
   ],
   "source": [
    "#find 75th percentile of age and Networth columns\n",
    "df[['Age', 'Networth $B']].quantile(.75)   \n",
    "                                #75th percentile of billionnaiers age were below 74 years \n",
    "                                #75th percentile of billionnaiers newtworth were below 4.5B$"
   ]
  },
  {
   "cell_type": "code",
   "execution_count": 32,
   "metadata": {},
   "outputs": [
    {
     "data": {
      "text/plain": [
       "Age            86.0\n",
       "Networth $B    14.0\n",
       "Name: 0.95, dtype: float64"
      ]
     },
     "execution_count": 32,
     "metadata": {},
     "output_type": "execute_result"
    }
   ],
   "source": [
    "#finding 95th percentile of age and Networth columns\n",
    "df[['Age', 'Networth $B']].quantile(.95)  \n",
    "                           #95th percentile of billionnaiers age were below 86 years \n",
    "                            #95th percentile of billionnaiers newtworth were below 14B$"
   ]
  },
  {
   "cell_type": "code",
   "execution_count": 33,
   "metadata": {},
   "outputs": [
    {
     "data": {
      "text/plain": [
       "Age            94.000\n",
       "Networth $B    47.319\n",
       "Name: 0.99, dtype: float64"
      ]
     },
     "execution_count": 33,
     "metadata": {},
     "output_type": "execute_result"
    }
   ],
   "source": [
    "#finding 99th percentile of age and Networth columns\n",
    "df[['Age', 'Networth $B']].quantile(.99)  \n",
    "                           #99th percentile of billionnaiers age were below 94 years. i.e only one persent of them are above 94years of age\n",
    "                            #99th percentile of billionnaiers newtworth were below 47.3B$ i.e only one percent of them having above 47.3B$ of networth"
   ]
  },
  {
   "cell_type": "code",
   "execution_count": 34,
   "metadata": {},
   "outputs": [
    {
     "name": "stdout",
     "output_type": "stream",
     "text": [
      "0.05    42.0\n",
      "0.25    55.0\n",
      "0.50    64.0\n",
      "0.75    74.0\n",
      "0.95    86.0\n",
      "0.99    94.0\n",
      "Name: Age, dtype: float64\n"
     ]
    }
   ],
   "source": [
    "# we can also genarate multiple percentile for a given varibale in one go. lets check it for age and networth separately\n",
    "# Generate multiple percentiles with df.quantile() \n",
    "print(df['Age'].quantile(q=[0.05,0.25,0.50,0.75, 0.95,0.99]))   "
   ]
  },
  {
   "cell_type": "code",
   "execution_count": 35,
   "metadata": {},
   "outputs": [
    {
     "name": "stdout",
     "output_type": "stream",
     "text": [
      "99th percentile of age was 94.0 years\n"
     ]
    }
   ],
   "source": [
    "# Generate multiple percentiles and select 99th percentile value \n",
    "print(\"99th percentile of age was\", df['Age'].quantile(q=[0.05,0.25,0.50,0.75, 0.95,0.99])[0.99],\"years\")   "
   ]
  },
  {
   "cell_type": "code",
   "execution_count": 36,
   "metadata": {},
   "outputs": [
    {
     "name": "stdout",
     "output_type": "stream",
     "text": [
      "0.05     1.100\n",
      "0.25     1.500\n",
      "0.50     2.400\n",
      "0.75     4.500\n",
      "0.95    14.000\n",
      "0.99    47.319\n",
      "Name: Networth $B, dtype: float64\n"
     ]
    }
   ],
   "source": [
    "# Generate multiple percentiles with df.quantile() \n",
    "print(df['Networth $B'].quantile(q=[0.05,0.25,0.50,0.75, 0.95,0.99]))   "
   ]
  },
  {
   "cell_type": "code",
   "execution_count": 37,
   "metadata": {},
   "outputs": [
    {
     "name": "stdout",
     "output_type": "stream",
     "text": [
      "99th percentile of networth was 47.3 B$\n"
     ]
    }
   ],
   "source": [
    "# Generate multiple percentiles and select 99th percentile value \n",
    "print(\"99th percentile of networth was\", round(df['Networth $B'].quantile(q=[0.05,0.25,0.50,0.75, 0.95,0.99])[0.99],1),\"B$\")   "
   ]
  },
  {
   "cell_type": "code",
   "execution_count": 38,
   "metadata": {},
   "outputs": [
    {
     "name": "stdout",
     "output_type": "stream",
     "text": [
      "Range was 218.0\n"
     ]
    }
   ],
   "source": [
    "# ranges of networth\n",
    "print(\"Range was\",df['Networth $B'].max()-df['Networth $B'].min())"
   ]
  },
  {
   "cell_type": "code",
   "execution_count": 39,
   "metadata": {},
   "outputs": [
    {
     "data": {
      "text/plain": [
       "3.0"
      ]
     },
     "execution_count": 39,
     "metadata": {},
     "output_type": "execute_result"
    }
   ],
   "source": [
    "#calculate interquartile range of values in the 'networth' column\n",
    "q75, q25 = np.percentile(df['Networth $B'], [75 ,25])\n",
    "iqr = q75 - q25\n",
    "iqr   #The interquartile range of values in the points column turns out to be 3.0"
   ]
  },
  {
   "cell_type": "code",
   "execution_count": 40,
   "metadata": {},
   "outputs": [
    {
     "data": {
      "text/html": [
       "<div>\n",
       "<style scoped>\n",
       "    .dataframe tbody tr th:only-of-type {\n",
       "        vertical-align: middle;\n",
       "    }\n",
       "\n",
       "    .dataframe tbody tr th {\n",
       "        vertical-align: top;\n",
       "    }\n",
       "\n",
       "    .dataframe thead th {\n",
       "        text-align: right;\n",
       "    }\n",
       "</style>\n",
       "<table border=\"1\" class=\"dataframe\">\n",
       "  <thead>\n",
       "    <tr style=\"text-align: right;\">\n",
       "      <th></th>\n",
       "      <th>Name</th>\n",
       "      <th>Networth $B</th>\n",
       "      <th>Age</th>\n",
       "      <th>Country</th>\n",
       "      <th>Source</th>\n",
       "      <th>Industry</th>\n",
       "      <th>Agegroup</th>\n",
       "    </tr>\n",
       "  </thead>\n",
       "  <tbody>\n",
       "    <tr>\n",
       "      <th>0</th>\n",
       "      <td>Elon Musk</td>\n",
       "      <td>219.0</td>\n",
       "      <td>50.0</td>\n",
       "      <td>United States</td>\n",
       "      <td>Tesla, SpaceX</td>\n",
       "      <td>Automotive</td>\n",
       "      <td>40-59</td>\n",
       "    </tr>\n",
       "    <tr>\n",
       "      <th>1</th>\n",
       "      <td>Jeff Bezos</td>\n",
       "      <td>171.0</td>\n",
       "      <td>58.0</td>\n",
       "      <td>United States</td>\n",
       "      <td>Amazon</td>\n",
       "      <td>Technology</td>\n",
       "      <td>40-59</td>\n",
       "    </tr>\n",
       "    <tr>\n",
       "      <th>2</th>\n",
       "      <td>Bernard Arnault &amp; family</td>\n",
       "      <td>158.0</td>\n",
       "      <td>73.0</td>\n",
       "      <td>France</td>\n",
       "      <td>LVMH</td>\n",
       "      <td>Fashion &amp; Retail</td>\n",
       "      <td>60-79</td>\n",
       "    </tr>\n",
       "    <tr>\n",
       "      <th>3</th>\n",
       "      <td>Bill Gates</td>\n",
       "      <td>129.0</td>\n",
       "      <td>66.0</td>\n",
       "      <td>United States</td>\n",
       "      <td>Microsoft</td>\n",
       "      <td>Technology</td>\n",
       "      <td>60-79</td>\n",
       "    </tr>\n",
       "    <tr>\n",
       "      <th>4</th>\n",
       "      <td>Warren Buffett</td>\n",
       "      <td>118.0</td>\n",
       "      <td>91.0</td>\n",
       "      <td>United States</td>\n",
       "      <td>Berkshire Hathaway</td>\n",
       "      <td>Finance &amp; Investments</td>\n",
       "      <td>80 and above</td>\n",
       "    </tr>\n",
       "    <tr>\n",
       "      <th>5</th>\n",
       "      <td>Larry Page</td>\n",
       "      <td>111.0</td>\n",
       "      <td>49.0</td>\n",
       "      <td>United States</td>\n",
       "      <td>Google</td>\n",
       "      <td>Technology</td>\n",
       "      <td>40-59</td>\n",
       "    </tr>\n",
       "    <tr>\n",
       "      <th>6</th>\n",
       "      <td>Sergey Brin</td>\n",
       "      <td>107.0</td>\n",
       "      <td>48.0</td>\n",
       "      <td>United States</td>\n",
       "      <td>Google</td>\n",
       "      <td>Technology</td>\n",
       "      <td>40-59</td>\n",
       "    </tr>\n",
       "    <tr>\n",
       "      <th>7</th>\n",
       "      <td>Larry Ellison</td>\n",
       "      <td>106.0</td>\n",
       "      <td>77.0</td>\n",
       "      <td>United States</td>\n",
       "      <td>software</td>\n",
       "      <td>Technology</td>\n",
       "      <td>60-79</td>\n",
       "    </tr>\n",
       "    <tr>\n",
       "      <th>8</th>\n",
       "      <td>Steve Ballmer</td>\n",
       "      <td>91.4</td>\n",
       "      <td>66.0</td>\n",
       "      <td>United States</td>\n",
       "      <td>Microsoft</td>\n",
       "      <td>Technology</td>\n",
       "      <td>60-79</td>\n",
       "    </tr>\n",
       "    <tr>\n",
       "      <th>9</th>\n",
       "      <td>Mukesh Ambani</td>\n",
       "      <td>90.7</td>\n",
       "      <td>64.0</td>\n",
       "      <td>India</td>\n",
       "      <td>diversified</td>\n",
       "      <td>Diversified</td>\n",
       "      <td>60-79</td>\n",
       "    </tr>\n",
       "  </tbody>\n",
       "</table>\n",
       "</div>"
      ],
      "text/plain": [
       "                        Name  Networth $B   Age        Country  \\\n",
       "0                 Elon Musk         219.0  50.0  United States   \n",
       "1                Jeff Bezos         171.0  58.0  United States   \n",
       "2  Bernard Arnault & family         158.0  73.0         France   \n",
       "3                Bill Gates         129.0  66.0  United States   \n",
       "4            Warren Buffett         118.0  91.0  United States   \n",
       "5                Larry Page         111.0  49.0  United States   \n",
       "6               Sergey Brin         107.0  48.0  United States   \n",
       "7             Larry Ellison         106.0  77.0  United States   \n",
       "8             Steve Ballmer          91.4  66.0  United States   \n",
       "9             Mukesh Ambani          90.7  64.0          India   \n",
       "\n",
       "               Source                Industry      Agegroup  \n",
       "0       Tesla, SpaceX             Automotive          40-59  \n",
       "1              Amazon             Technology          40-59  \n",
       "2                LVMH       Fashion & Retail          60-79  \n",
       "3           Microsoft             Technology          60-79  \n",
       "4  Berkshire Hathaway  Finance & Investments   80 and above  \n",
       "5              Google             Technology          40-59  \n",
       "6              Google             Technology          40-59  \n",
       "7            software             Technology          60-79  \n",
       "8           Microsoft             Technology          60-79  \n",
       "9         diversified            Diversified          60-79  "
      ]
     },
     "execution_count": 40,
     "metadata": {},
     "output_type": "execute_result"
    }
   ],
   "source": [
    "#who are the top 10 richest Billionaire in 2022?\n",
    "\n",
    "richest_10= df.sort_values(by=\"Networth $B\", ascending=False)[:10] # top 10 richest billionaires  \n",
    "richest_10"
   ]
  },
  {
   "cell_type": "code",
   "execution_count": 41,
   "metadata": {},
   "outputs": [
    {
     "data": {
      "image/png": "[encoded data removed]",
      "text/plain": [
       "<Figure size 1080x432 with 1 Axes>"
      ]
     },
     "metadata": {
      "needs_background": "light"
     },
     "output_type": "display_data"
    }
   ],
   "source": [
    "plt.figure(figsize=[15, 6])\n",
    "plt.xticks(rotation=75)\n",
    "plt.title(\"Top 10 richest billionaires in 2022\")\n",
    "sns.barplot(data=richest_10, x=richest_10[\"Networth $B\"], y=richest_10[\"Name\"])\n",
    "plt.show()"
   ]
  },
  {
   "cell_type": "code",
   "execution_count": 42,
   "metadata": {},
   "outputs": [
    {
     "data": {
      "image/png": "[encoded data removed]",
      "text/plain": [
       "<Figure size 1296x576 with 1 Axes>"
      ]
     },
     "metadata": {
      "needs_background": "light"
     },
     "output_type": "display_data"
    }
   ],
   "source": [
    "plt.figure(figsize=[18, 8])\n",
    "plt.xticks(rotation=75)\n",
    "plt.title(\"Top 10 richest billionaires by Country in 2022\")\n",
    "sns.scatterplot(data=richest_10, y=richest_10[\"Networth $B\"], x=richest_10[\"Name\"],hue=richest_10[\"Country\"])\n",
    "plt.show()"
   ]
  },
  {
   "cell_type": "code",
   "execution_count": 43,
   "metadata": {},
   "outputs": [
    {
     "data": {
      "text/html": [
       "<div>\n",
       "<style scoped>\n",
       "    .dataframe tbody tr th:only-of-type {\n",
       "        vertical-align: middle;\n",
       "    }\n",
       "\n",
       "    .dataframe tbody tr th {\n",
       "        vertical-align: top;\n",
       "    }\n",
       "\n",
       "    .dataframe thead th {\n",
       "        text-align: right;\n",
       "    }\n",
       "</style>\n",
       "<table border=\"1\" class=\"dataframe\">\n",
       "  <thead>\n",
       "    <tr style=\"text-align: right;\">\n",
       "      <th></th>\n",
       "      <th>Name</th>\n",
       "      <th>Networth $B</th>\n",
       "      <th>Age</th>\n",
       "      <th>Country</th>\n",
       "      <th>Source</th>\n",
       "      <th>Industry</th>\n",
       "      <th>Agegroup</th>\n",
       "    </tr>\n",
       "  </thead>\n",
       "  <tbody>\n",
       "    <tr>\n",
       "      <th>0</th>\n",
       "      <td>Elon Musk</td>\n",
       "      <td>219.0</td>\n",
       "      <td>50.0</td>\n",
       "      <td>United States</td>\n",
       "      <td>Tesla, SpaceX</td>\n",
       "      <td>Automotive</td>\n",
       "      <td>40-59</td>\n",
       "    </tr>\n",
       "    <tr>\n",
       "      <th>1</th>\n",
       "      <td>Jeff Bezos</td>\n",
       "      <td>171.0</td>\n",
       "      <td>58.0</td>\n",
       "      <td>United States</td>\n",
       "      <td>Amazon</td>\n",
       "      <td>Technology</td>\n",
       "      <td>40-59</td>\n",
       "    </tr>\n",
       "    <tr>\n",
       "      <th>2</th>\n",
       "      <td>Bernard Arnault &amp; family</td>\n",
       "      <td>158.0</td>\n",
       "      <td>73.0</td>\n",
       "      <td>France</td>\n",
       "      <td>LVMH</td>\n",
       "      <td>Fashion &amp; Retail</td>\n",
       "      <td>60-79</td>\n",
       "    </tr>\n",
       "    <tr>\n",
       "      <th>3</th>\n",
       "      <td>Bill Gates</td>\n",
       "      <td>129.0</td>\n",
       "      <td>66.0</td>\n",
       "      <td>United States</td>\n",
       "      <td>Microsoft</td>\n",
       "      <td>Technology</td>\n",
       "      <td>60-79</td>\n",
       "    </tr>\n",
       "    <tr>\n",
       "      <th>4</th>\n",
       "      <td>Warren Buffett</td>\n",
       "      <td>118.0</td>\n",
       "      <td>91.0</td>\n",
       "      <td>United States</td>\n",
       "      <td>Berkshire Hathaway</td>\n",
       "      <td>Finance &amp; Investments</td>\n",
       "      <td>80 and above</td>\n",
       "    </tr>\n",
       "    <tr>\n",
       "      <th>5</th>\n",
       "      <td>Larry Page</td>\n",
       "      <td>111.0</td>\n",
       "      <td>49.0</td>\n",
       "      <td>United States</td>\n",
       "      <td>Google</td>\n",
       "      <td>Technology</td>\n",
       "      <td>40-59</td>\n",
       "    </tr>\n",
       "    <tr>\n",
       "      <th>6</th>\n",
       "      <td>Sergey Brin</td>\n",
       "      <td>107.0</td>\n",
       "      <td>48.0</td>\n",
       "      <td>United States</td>\n",
       "      <td>Google</td>\n",
       "      <td>Technology</td>\n",
       "      <td>40-59</td>\n",
       "    </tr>\n",
       "    <tr>\n",
       "      <th>7</th>\n",
       "      <td>Larry Ellison</td>\n",
       "      <td>106.0</td>\n",
       "      <td>77.0</td>\n",
       "      <td>United States</td>\n",
       "      <td>software</td>\n",
       "      <td>Technology</td>\n",
       "      <td>60-79</td>\n",
       "    </tr>\n",
       "    <tr>\n",
       "      <th>8</th>\n",
       "      <td>Steve Ballmer</td>\n",
       "      <td>91.4</td>\n",
       "      <td>66.0</td>\n",
       "      <td>United States</td>\n",
       "      <td>Microsoft</td>\n",
       "      <td>Technology</td>\n",
       "      <td>60-79</td>\n",
       "    </tr>\n",
       "    <tr>\n",
       "      <th>9</th>\n",
       "      <td>Mukesh Ambani</td>\n",
       "      <td>90.7</td>\n",
       "      <td>64.0</td>\n",
       "      <td>India</td>\n",
       "      <td>diversified</td>\n",
       "      <td>Diversified</td>\n",
       "      <td>60-79</td>\n",
       "    </tr>\n",
       "    <tr>\n",
       "      <th>10</th>\n",
       "      <td>Gautam Adani &amp; family</td>\n",
       "      <td>90.0</td>\n",
       "      <td>59.0</td>\n",
       "      <td>India</td>\n",
       "      <td>infrastructure, commodities</td>\n",
       "      <td>Diversified</td>\n",
       "      <td>60-79</td>\n",
       "    </tr>\n",
       "    <tr>\n",
       "      <th>11</th>\n",
       "      <td>Michael Bloomberg</td>\n",
       "      <td>82.0</td>\n",
       "      <td>80.0</td>\n",
       "      <td>United States</td>\n",
       "      <td>Bloomberg LP</td>\n",
       "      <td>Media &amp; Entertainment</td>\n",
       "      <td>80 and above</td>\n",
       "    </tr>\n",
       "    <tr>\n",
       "      <th>12</th>\n",
       "      <td>Carlos Slim Helu &amp; family</td>\n",
       "      <td>81.2</td>\n",
       "      <td>82.0</td>\n",
       "      <td>Mexico</td>\n",
       "      <td>telecom</td>\n",
       "      <td>Telecom</td>\n",
       "      <td>80 and above</td>\n",
       "    </tr>\n",
       "    <tr>\n",
       "      <th>13</th>\n",
       "      <td>Francoise Bettencourt Meyers &amp; family</td>\n",
       "      <td>74.8</td>\n",
       "      <td>68.0</td>\n",
       "      <td>France</td>\n",
       "      <td>L'Oréal</td>\n",
       "      <td>Fashion &amp; Retail</td>\n",
       "      <td>60-79</td>\n",
       "    </tr>\n",
       "    <tr>\n",
       "      <th>14</th>\n",
       "      <td>Mark Zuckerberg</td>\n",
       "      <td>67.3</td>\n",
       "      <td>37.0</td>\n",
       "      <td>United States</td>\n",
       "      <td>Facebook</td>\n",
       "      <td>Technology</td>\n",
       "      <td>below 40</td>\n",
       "    </tr>\n",
       "    <tr>\n",
       "      <th>15</th>\n",
       "      <td>Jim Walton</td>\n",
       "      <td>66.2</td>\n",
       "      <td>73.0</td>\n",
       "      <td>United States</td>\n",
       "      <td>Walmart</td>\n",
       "      <td>Fashion &amp; Retail</td>\n",
       "      <td>60-79</td>\n",
       "    </tr>\n",
       "    <tr>\n",
       "      <th>16</th>\n",
       "      <td>Zhong Shanshan</td>\n",
       "      <td>65.7</td>\n",
       "      <td>67.0</td>\n",
       "      <td>China</td>\n",
       "      <td>beverages, pharmaceuticals</td>\n",
       "      <td>Food &amp; Beverage</td>\n",
       "      <td>60-79</td>\n",
       "    </tr>\n",
       "    <tr>\n",
       "      <th>17</th>\n",
       "      <td>Alice Walton</td>\n",
       "      <td>65.3</td>\n",
       "      <td>72.0</td>\n",
       "      <td>United States</td>\n",
       "      <td>Walmart</td>\n",
       "      <td>Fashion &amp; Retail</td>\n",
       "      <td>60-79</td>\n",
       "    </tr>\n",
       "    <tr>\n",
       "      <th>18</th>\n",
       "      <td>Rob Walton</td>\n",
       "      <td>65.0</td>\n",
       "      <td>77.0</td>\n",
       "      <td>United States</td>\n",
       "      <td>Walmart</td>\n",
       "      <td>Fashion &amp; Retail</td>\n",
       "      <td>60-79</td>\n",
       "    </tr>\n",
       "    <tr>\n",
       "      <th>19</th>\n",
       "      <td>Changpeng Zhao</td>\n",
       "      <td>65.0</td>\n",
       "      <td>44.0</td>\n",
       "      <td>Canada</td>\n",
       "      <td>cryptocurrency exchange</td>\n",
       "      <td>Finance &amp; Investments</td>\n",
       "      <td>40-59</td>\n",
       "    </tr>\n",
       "    <tr>\n",
       "      <th>20</th>\n",
       "      <td>Charles Koch</td>\n",
       "      <td>60.0</td>\n",
       "      <td>86.0</td>\n",
       "      <td>United States</td>\n",
       "      <td>Koch Industries</td>\n",
       "      <td>Diversified</td>\n",
       "      <td>80 and above</td>\n",
       "    </tr>\n",
       "    <tr>\n",
       "      <th>21</th>\n",
       "      <td>Julia Koch &amp; family</td>\n",
       "      <td>60.0</td>\n",
       "      <td>59.0</td>\n",
       "      <td>United States</td>\n",
       "      <td>Koch Industries</td>\n",
       "      <td>Diversified</td>\n",
       "      <td>60-79</td>\n",
       "    </tr>\n",
       "    <tr>\n",
       "      <th>22</th>\n",
       "      <td>Amancio Ortega</td>\n",
       "      <td>59.6</td>\n",
       "      <td>86.0</td>\n",
       "      <td>Spain</td>\n",
       "      <td>Zara</td>\n",
       "      <td>Fashion &amp; Retail</td>\n",
       "      <td>80 and above</td>\n",
       "    </tr>\n",
       "    <tr>\n",
       "      <th>23</th>\n",
       "      <td>Michael Dell</td>\n",
       "      <td>55.1</td>\n",
       "      <td>57.0</td>\n",
       "      <td>United States</td>\n",
       "      <td>Dell computers</td>\n",
       "      <td>Technology</td>\n",
       "      <td>40-59</td>\n",
       "    </tr>\n",
       "    <tr>\n",
       "      <th>24</th>\n",
       "      <td>Zhang Yiming</td>\n",
       "      <td>50.0</td>\n",
       "      <td>38.0</td>\n",
       "      <td>China</td>\n",
       "      <td>TikTok</td>\n",
       "      <td>Media &amp; Entertainment</td>\n",
       "      <td>below 40</td>\n",
       "    </tr>\n",
       "  </tbody>\n",
       "</table>\n",
       "</div>"
      ],
      "text/plain": [
       "                                      Name  Networth $B   Age        Country  \\\n",
       "0                               Elon Musk         219.0  50.0  United States   \n",
       "1                              Jeff Bezos         171.0  58.0  United States   \n",
       "2                Bernard Arnault & family         158.0  73.0         France   \n",
       "3                              Bill Gates         129.0  66.0  United States   \n",
       "4                          Warren Buffett         118.0  91.0  United States   \n",
       "5                              Larry Page         111.0  49.0  United States   \n",
       "6                             Sergey Brin         107.0  48.0  United States   \n",
       "7                           Larry Ellison         106.0  77.0  United States   \n",
       "8                           Steve Ballmer          91.4  66.0  United States   \n",
       "9                           Mukesh Ambani          90.7  64.0          India   \n",
       "10                  Gautam Adani & family          90.0  59.0          India   \n",
       "11                      Michael Bloomberg          82.0  80.0  United States   \n",
       "12              Carlos Slim Helu & family          81.2  82.0         Mexico   \n",
       "13  Francoise Bettencourt Meyers & family          74.8  68.0         France   \n",
       "14                        Mark Zuckerberg          67.3  37.0  United States   \n",
       "15                             Jim Walton          66.2  73.0  United States   \n",
       "16                         Zhong Shanshan          65.7  67.0          China   \n",
       "17                           Alice Walton          65.3  72.0  United States   \n",
       "18                             Rob Walton          65.0  77.0  United States   \n",
       "19                         Changpeng Zhao          65.0  44.0         Canada   \n",
       "20                           Charles Koch          60.0  86.0  United States   \n",
       "21                    Julia Koch & family          60.0  59.0  United States   \n",
       "22                         Amancio Ortega          59.6  86.0          Spain   \n",
       "23                           Michael Dell          55.1  57.0  United States   \n",
       "24                           Zhang Yiming          50.0  38.0          China   \n",
       "\n",
       "                         Source                Industry      Agegroup  \n",
       "0                 Tesla, SpaceX             Automotive          40-59  \n",
       "1                        Amazon             Technology          40-59  \n",
       "2                          LVMH       Fashion & Retail          60-79  \n",
       "3                     Microsoft             Technology          60-79  \n",
       "4            Berkshire Hathaway  Finance & Investments   80 and above  \n",
       "5                        Google             Technology          40-59  \n",
       "6                        Google             Technology          40-59  \n",
       "7                      software             Technology          60-79  \n",
       "8                     Microsoft             Technology          60-79  \n",
       "9                   diversified            Diversified          60-79  \n",
       "10  infrastructure, commodities            Diversified          60-79  \n",
       "11                 Bloomberg LP  Media & Entertainment   80 and above  \n",
       "12                      telecom                Telecom   80 and above  \n",
       "13                      L'Oréal       Fashion & Retail          60-79  \n",
       "14                     Facebook             Technology       below 40  \n",
       "15                      Walmart       Fashion & Retail          60-79  \n",
       "16   beverages, pharmaceuticals        Food & Beverage          60-79  \n",
       "17                      Walmart       Fashion & Retail          60-79  \n",
       "18                      Walmart       Fashion & Retail          60-79  \n",
       "19      cryptocurrency exchange  Finance & Investments          40-59  \n",
       "20              Koch Industries            Diversified   80 and above  \n",
       "21              Koch Industries            Diversified          60-79  \n",
       "22                         Zara       Fashion & Retail   80 and above  \n",
       "23               Dell computers             Technology          40-59  \n",
       "24                       TikTok  Media & Entertainment       below 40  "
      ]
     },
     "execution_count": 43,
     "metadata": {},
     "output_type": "execute_result"
    }
   ],
   "source": [
    "#how many billionaies' net worth is 50B$ and above in 2022?\n",
    "df_richest= df[df['Networth $B']>=50]\n",
    "df_richest    # only 25 billionaires' worth was greaater >50B$ in 2022. "
   ]
  },
  {
   "cell_type": "code",
   "execution_count": 44,
   "metadata": {},
   "outputs": [
    {
     "data": {
      "text/html": [
       "<div>\n",
       "<style scoped>\n",
       "    .dataframe tbody tr th:only-of-type {\n",
       "        vertical-align: middle;\n",
       "    }\n",
       "\n",
       "    .dataframe tbody tr th {\n",
       "        vertical-align: top;\n",
       "    }\n",
       "\n",
       "    .dataframe thead th {\n",
       "        text-align: right;\n",
       "    }\n",
       "</style>\n",
       "<table border=\"1\" class=\"dataframe\">\n",
       "  <thead>\n",
       "    <tr style=\"text-align: right;\">\n",
       "      <th></th>\n",
       "      <th>Name</th>\n",
       "      <th>Networth $B</th>\n",
       "      <th>Age</th>\n",
       "      <th>Country</th>\n",
       "      <th>Source</th>\n",
       "      <th>Industry</th>\n",
       "      <th>Agegroup</th>\n",
       "    </tr>\n",
       "  </thead>\n",
       "  <tbody>\n",
       "    <tr>\n",
       "      <th>0</th>\n",
       "      <td>Elon Musk</td>\n",
       "      <td>219.0</td>\n",
       "      <td>50.0</td>\n",
       "      <td>United States</td>\n",
       "      <td>Tesla, SpaceX</td>\n",
       "      <td>Automotive</td>\n",
       "      <td>40-59</td>\n",
       "    </tr>\n",
       "    <tr>\n",
       "      <th>1</th>\n",
       "      <td>Jeff Bezos</td>\n",
       "      <td>171.0</td>\n",
       "      <td>58.0</td>\n",
       "      <td>United States</td>\n",
       "      <td>Amazon</td>\n",
       "      <td>Technology</td>\n",
       "      <td>40-59</td>\n",
       "    </tr>\n",
       "    <tr>\n",
       "      <th>2</th>\n",
       "      <td>Bernard Arnault &amp; family</td>\n",
       "      <td>158.0</td>\n",
       "      <td>73.0</td>\n",
       "      <td>France</td>\n",
       "      <td>LVMH</td>\n",
       "      <td>Fashion &amp; Retail</td>\n",
       "      <td>60-79</td>\n",
       "    </tr>\n",
       "  </tbody>\n",
       "</table>\n",
       "</div>"
      ],
      "text/plain": [
       "                        Name  Networth $B   Age        Country         Source  \\\n",
       "0                 Elon Musk         219.0  50.0  United States  Tesla, SpaceX   \n",
       "1                Jeff Bezos         171.0  58.0  United States         Amazon   \n",
       "2  Bernard Arnault & family         158.0  73.0         France           LVMH   \n",
       "\n",
       "            Industry Agegroup  \n",
       "0        Automotive     40-59  \n",
       "1        Technology     40-59  \n",
       "2  Fashion & Retail     60-79  "
      ]
     },
     "execution_count": 44,
     "metadata": {},
     "output_type": "execute_result"
    }
   ],
   "source": [
    "df[df['Networth $B']>=150]  # Elon Musk, Jeff Bozes, and Bernard Arnault and family were the leading billionaire in the world in 2022 with net worth of 219,171 and 158 B$, respectively."
   ]
  },
  {
   "cell_type": "code",
   "execution_count": 45,
   "metadata": {},
   "outputs": [
    {
     "data": {
      "text/html": [
       "<div>\n",
       "<style scoped>\n",
       "    .dataframe tbody tr th:only-of-type {\n",
       "        vertical-align: middle;\n",
       "    }\n",
       "\n",
       "    .dataframe tbody tr th {\n",
       "        vertical-align: top;\n",
       "    }\n",
       "\n",
       "    .dataframe thead th {\n",
       "        text-align: right;\n",
       "    }\n",
       "</style>\n",
       "<table border=\"1\" class=\"dataframe\">\n",
       "  <thead>\n",
       "    <tr style=\"text-align: right;\">\n",
       "      <th></th>\n",
       "      <th>Name</th>\n",
       "      <th>Networth $B</th>\n",
       "      <th>Age</th>\n",
       "      <th>Country</th>\n",
       "      <th>Source</th>\n",
       "      <th>Industry</th>\n",
       "      <th>Agegroup</th>\n",
       "    </tr>\n",
       "  </thead>\n",
       "  <tbody>\n",
       "    <tr>\n",
       "      <th>436</th>\n",
       "      <td>Gary Wang</td>\n",
       "      <td>5.9</td>\n",
       "      <td>28.0</td>\n",
       "      <td>United States</td>\n",
       "      <td>cryptocurrency exchange</td>\n",
       "      <td>Finance &amp; Investments</td>\n",
       "      <td>below 40</td>\n",
       "    </tr>\n",
       "    <tr>\n",
       "      <th>649</th>\n",
       "      <td>Gustav Magnar Witzoe</td>\n",
       "      <td>4.5</td>\n",
       "      <td>28.0</td>\n",
       "      <td>Norway</td>\n",
       "      <td>fish farming</td>\n",
       "      <td>Food &amp; Beverage</td>\n",
       "      <td>below 40</td>\n",
       "    </tr>\n",
       "    <tr>\n",
       "      <th>1311</th>\n",
       "      <td>Kevin David Lehmann</td>\n",
       "      <td>2.4</td>\n",
       "      <td>19.0</td>\n",
       "      <td>Germany</td>\n",
       "      <td>drugstores</td>\n",
       "      <td>Fashion &amp; Retail</td>\n",
       "      <td>below 40</td>\n",
       "    </tr>\n",
       "    <tr>\n",
       "      <th>1518</th>\n",
       "      <td>Ryan Breslow</td>\n",
       "      <td>2.0</td>\n",
       "      <td>27.0</td>\n",
       "      <td>United States</td>\n",
       "      <td>e-commerce software</td>\n",
       "      <td>Technology</td>\n",
       "      <td>below 40</td>\n",
       "    </tr>\n",
       "    <tr>\n",
       "      <th>1887</th>\n",
       "      <td>Austin Russell</td>\n",
       "      <td>1.6</td>\n",
       "      <td>27.0</td>\n",
       "      <td>United States</td>\n",
       "      <td>sensors★</td>\n",
       "      <td>Automotive</td>\n",
       "      <td>below 40</td>\n",
       "    </tr>\n",
       "    <tr>\n",
       "      <th>1961</th>\n",
       "      <td>Henrique Dubugras</td>\n",
       "      <td>1.5</td>\n",
       "      <td>26.0</td>\n",
       "      <td>Brazil</td>\n",
       "      <td>fintech</td>\n",
       "      <td>Finance &amp; Investments</td>\n",
       "      <td>below 40</td>\n",
       "    </tr>\n",
       "    <tr>\n",
       "      <th>1975</th>\n",
       "      <td>Pedro Franceschi</td>\n",
       "      <td>1.5</td>\n",
       "      <td>25.0</td>\n",
       "      <td>Brazil</td>\n",
       "      <td>fintech</td>\n",
       "      <td>Finance &amp; Investments</td>\n",
       "      <td>below 40</td>\n",
       "    </tr>\n",
       "    <tr>\n",
       "      <th>2062</th>\n",
       "      <td>Wang Zelong</td>\n",
       "      <td>1.5</td>\n",
       "      <td>25.0</td>\n",
       "      <td>China</td>\n",
       "      <td>chemicals</td>\n",
       "      <td>Metals &amp; Mining</td>\n",
       "      <td>below 40</td>\n",
       "    </tr>\n",
       "    <tr>\n",
       "      <th>2190</th>\n",
       "      <td>Alexandra Andresen</td>\n",
       "      <td>1.3</td>\n",
       "      <td>25.0</td>\n",
       "      <td>Norway</td>\n",
       "      <td>investments</td>\n",
       "      <td>Diversified</td>\n",
       "      <td>below 40</td>\n",
       "    </tr>\n",
       "    <tr>\n",
       "      <th>2191</th>\n",
       "      <td>Katharina Andresen</td>\n",
       "      <td>1.3</td>\n",
       "      <td>26.0</td>\n",
       "      <td>Norway</td>\n",
       "      <td>investments</td>\n",
       "      <td>Diversified</td>\n",
       "      <td>below 40</td>\n",
       "    </tr>\n",
       "    <tr>\n",
       "      <th>2421</th>\n",
       "      <td>Stanley Tang</td>\n",
       "      <td>1.2</td>\n",
       "      <td>29.0</td>\n",
       "      <td>United States</td>\n",
       "      <td>food delivery app</td>\n",
       "      <td>Technology</td>\n",
       "      <td>below 40</td>\n",
       "    </tr>\n",
       "    <tr>\n",
       "      <th>2462</th>\n",
       "      <td>Andy Fang</td>\n",
       "      <td>1.1</td>\n",
       "      <td>29.0</td>\n",
       "      <td>United States</td>\n",
       "      <td>food delivery app</td>\n",
       "      <td>Technology</td>\n",
       "      <td>below 40</td>\n",
       "    </tr>\n",
       "  </tbody>\n",
       "</table>\n",
       "</div>"
      ],
      "text/plain": [
       "                       Name  Networth $B   Age        Country  \\\n",
       "436              Gary Wang           5.9  28.0  United States   \n",
       "649   Gustav Magnar Witzoe           4.5  28.0         Norway   \n",
       "1311   Kevin David Lehmann           2.4  19.0        Germany   \n",
       "1518          Ryan Breslow           2.0  27.0  United States   \n",
       "1887        Austin Russell           1.6  27.0  United States   \n",
       "1961     Henrique Dubugras           1.5  26.0         Brazil   \n",
       "1975      Pedro Franceschi           1.5  25.0         Brazil   \n",
       "2062           Wang Zelong           1.5  25.0          China   \n",
       "2190    Alexandra Andresen           1.3  25.0         Norway   \n",
       "2191    Katharina Andresen           1.3  26.0         Norway   \n",
       "2421          Stanley Tang           1.2  29.0  United States   \n",
       "2462             Andy Fang           1.1  29.0  United States   \n",
       "\n",
       "                       Source                Industry  Agegroup  \n",
       "436   cryptocurrency exchange  Finance & Investments   below 40  \n",
       "649              fish farming        Food & Beverage   below 40  \n",
       "1311               drugstores       Fashion & Retail   below 40  \n",
       "1518      e-commerce software             Technology   below 40  \n",
       "1887                 sensors★             Automotive   below 40  \n",
       "1961                  fintech  Finance & Investments   below 40  \n",
       "1975                  fintech  Finance & Investments   below 40  \n",
       "2062                chemicals        Metals & Mining   below 40  \n",
       "2190              investments            Diversified   below 40  \n",
       "2191              investments            Diversified   below 40  \n",
       "2421        food delivery app             Technology   below 40  \n",
       "2462        food delivery app             Technology   below 40  "
      ]
     },
     "execution_count": 45,
     "metadata": {},
     "output_type": "execute_result"
    }
   ],
   "source": [
    "# lets say we want to filter all the data whose age was less than 30\n",
    "df.query('Age < 30')   #those were the 12 billionare whose age was under 30 years"
   ]
  },
  {
   "cell_type": "code",
   "execution_count": 46,
   "metadata": {},
   "outputs": [
    {
     "data": {
      "text/html": [
       "<div>\n",
       "<style scoped>\n",
       "    .dataframe tbody tr th:only-of-type {\n",
       "        vertical-align: middle;\n",
       "    }\n",
       "\n",
       "    .dataframe tbody tr th {\n",
       "        vertical-align: top;\n",
       "    }\n",
       "\n",
       "    .dataframe thead th {\n",
       "        text-align: right;\n",
       "    }\n",
       "</style>\n",
       "<table border=\"1\" class=\"dataframe\">\n",
       "  <thead>\n",
       "    <tr style=\"text-align: right;\">\n",
       "      <th></th>\n",
       "      <th>Name</th>\n",
       "      <th>Networth $B</th>\n",
       "      <th>Age</th>\n",
       "      <th>Country</th>\n",
       "      <th>Source</th>\n",
       "      <th>Industry</th>\n",
       "      <th>Agegroup</th>\n",
       "    </tr>\n",
       "  </thead>\n",
       "  <tbody>\n",
       "    <tr>\n",
       "      <th>1311</th>\n",
       "      <td>Kevin David Lehmann</td>\n",
       "      <td>2.4</td>\n",
       "      <td>19.0</td>\n",
       "      <td>Germany</td>\n",
       "      <td>drugstores</td>\n",
       "      <td>Fashion &amp; Retail</td>\n",
       "      <td>below 40</td>\n",
       "    </tr>\n",
       "    <tr>\n",
       "      <th>2062</th>\n",
       "      <td>Wang Zelong</td>\n",
       "      <td>1.5</td>\n",
       "      <td>25.0</td>\n",
       "      <td>China</td>\n",
       "      <td>chemicals</td>\n",
       "      <td>Metals &amp; Mining</td>\n",
       "      <td>below 40</td>\n",
       "    </tr>\n",
       "    <tr>\n",
       "      <th>1975</th>\n",
       "      <td>Pedro Franceschi</td>\n",
       "      <td>1.5</td>\n",
       "      <td>25.0</td>\n",
       "      <td>Brazil</td>\n",
       "      <td>fintech</td>\n",
       "      <td>Finance &amp; Investments</td>\n",
       "      <td>below 40</td>\n",
       "    </tr>\n",
       "    <tr>\n",
       "      <th>2190</th>\n",
       "      <td>Alexandra Andresen</td>\n",
       "      <td>1.3</td>\n",
       "      <td>25.0</td>\n",
       "      <td>Norway</td>\n",
       "      <td>investments</td>\n",
       "      <td>Diversified</td>\n",
       "      <td>below 40</td>\n",
       "    </tr>\n",
       "    <tr>\n",
       "      <th>1961</th>\n",
       "      <td>Henrique Dubugras</td>\n",
       "      <td>1.5</td>\n",
       "      <td>26.0</td>\n",
       "      <td>Brazil</td>\n",
       "      <td>fintech</td>\n",
       "      <td>Finance &amp; Investments</td>\n",
       "      <td>below 40</td>\n",
       "    </tr>\n",
       "    <tr>\n",
       "      <th>2191</th>\n",
       "      <td>Katharina Andresen</td>\n",
       "      <td>1.3</td>\n",
       "      <td>26.0</td>\n",
       "      <td>Norway</td>\n",
       "      <td>investments</td>\n",
       "      <td>Diversified</td>\n",
       "      <td>below 40</td>\n",
       "    </tr>\n",
       "    <tr>\n",
       "      <th>1518</th>\n",
       "      <td>Ryan Breslow</td>\n",
       "      <td>2.0</td>\n",
       "      <td>27.0</td>\n",
       "      <td>United States</td>\n",
       "      <td>e-commerce software</td>\n",
       "      <td>Technology</td>\n",
       "      <td>below 40</td>\n",
       "    </tr>\n",
       "    <tr>\n",
       "      <th>1887</th>\n",
       "      <td>Austin Russell</td>\n",
       "      <td>1.6</td>\n",
       "      <td>27.0</td>\n",
       "      <td>United States</td>\n",
       "      <td>sensors★</td>\n",
       "      <td>Automotive</td>\n",
       "      <td>below 40</td>\n",
       "    </tr>\n",
       "    <tr>\n",
       "      <th>436</th>\n",
       "      <td>Gary Wang</td>\n",
       "      <td>5.9</td>\n",
       "      <td>28.0</td>\n",
       "      <td>United States</td>\n",
       "      <td>cryptocurrency exchange</td>\n",
       "      <td>Finance &amp; Investments</td>\n",
       "      <td>below 40</td>\n",
       "    </tr>\n",
       "    <tr>\n",
       "      <th>649</th>\n",
       "      <td>Gustav Magnar Witzoe</td>\n",
       "      <td>4.5</td>\n",
       "      <td>28.0</td>\n",
       "      <td>Norway</td>\n",
       "      <td>fish farming</td>\n",
       "      <td>Food &amp; Beverage</td>\n",
       "      <td>below 40</td>\n",
       "    </tr>\n",
       "  </tbody>\n",
       "</table>\n",
       "</div>"
      ],
      "text/plain": [
       "                       Name  Networth $B   Age        Country  \\\n",
       "1311   Kevin David Lehmann           2.4  19.0        Germany   \n",
       "2062           Wang Zelong           1.5  25.0          China   \n",
       "1975      Pedro Franceschi           1.5  25.0         Brazil   \n",
       "2190    Alexandra Andresen           1.3  25.0         Norway   \n",
       "1961     Henrique Dubugras           1.5  26.0         Brazil   \n",
       "2191    Katharina Andresen           1.3  26.0         Norway   \n",
       "1518          Ryan Breslow           2.0  27.0  United States   \n",
       "1887        Austin Russell           1.6  27.0  United States   \n",
       "436              Gary Wang           5.9  28.0  United States   \n",
       "649   Gustav Magnar Witzoe           4.5  28.0         Norway   \n",
       "\n",
       "                       Source                Industry  Agegroup  \n",
       "1311               drugstores       Fashion & Retail   below 40  \n",
       "2062                chemicals        Metals & Mining   below 40  \n",
       "1975                  fintech  Finance & Investments   below 40  \n",
       "2190              investments            Diversified   below 40  \n",
       "1961                  fintech  Finance & Investments   below 40  \n",
       "2191              investments            Diversified   below 40  \n",
       "1518      e-commerce software             Technology   below 40  \n",
       "1887                 sensors★             Automotive   below 40  \n",
       "436   cryptocurrency exchange  Finance & Investments   below 40  \n",
       "649              fish farming        Food & Beverage   below 40  "
      ]
     },
     "execution_count": 46,
     "metadata": {},
     "output_type": "execute_result"
    }
   ],
   "source": [
    "# who are the top 10 youngest Billionaires    \n",
    "youngest= df.sort_values(by=['Age'])[:10] # top 10 youngest billionaires\n",
    "youngest"
   ]
  },
  {
   "cell_type": "code",
   "execution_count": 47,
   "metadata": {},
   "outputs": [
    {
     "data": {
      "image/png": "[encoded data removed]",
      "text/plain": [
       "<Figure size 1080x432 with 1 Axes>"
      ]
     },
     "metadata": {
      "needs_background": "light"
     },
     "output_type": "display_data"
    }
   ],
   "source": [
    "plt.figure(figsize=[15, 6])\n",
    "plt.xticks(rotation=75)\n",
    "plt.title(\"Top 10 youngest Billionaires in 2022\")\n",
    "sns.barplot(data=youngest, x=youngest[\"Networth $B\"], y=youngest[\"Name\"])\n",
    "plt.show()"
   ]
  },
  {
   "cell_type": "code",
   "execution_count": 48,
   "metadata": {},
   "outputs": [
    {
     "data": {
      "text/html": [
       "<div>\n",
       "<style scoped>\n",
       "    .dataframe tbody tr th:only-of-type {\n",
       "        vertical-align: middle;\n",
       "    }\n",
       "\n",
       "    .dataframe tbody tr th {\n",
       "        vertical-align: top;\n",
       "    }\n",
       "\n",
       "    .dataframe thead th {\n",
       "        text-align: right;\n",
       "    }\n",
       "</style>\n",
       "<table border=\"1\" class=\"dataframe\">\n",
       "  <thead>\n",
       "    <tr style=\"text-align: right;\">\n",
       "      <th></th>\n",
       "      <th>Name</th>\n",
       "      <th>Networth $B</th>\n",
       "      <th>Age</th>\n",
       "      <th>Country</th>\n",
       "      <th>Source</th>\n",
       "      <th>Industry</th>\n",
       "      <th>Agegroup</th>\n",
       "    </tr>\n",
       "  </thead>\n",
       "  <tbody>\n",
       "    <tr>\n",
       "      <th>1311</th>\n",
       "      <td>Kevin David Lehmann</td>\n",
       "      <td>2.4</td>\n",
       "      <td>19.0</td>\n",
       "      <td>Germany</td>\n",
       "      <td>drugstores</td>\n",
       "      <td>Fashion &amp; Retail</td>\n",
       "      <td>below 40</td>\n",
       "    </tr>\n",
       "  </tbody>\n",
       "</table>\n",
       "</div>"
      ],
      "text/plain": [
       "                      Name  Networth $B   Age  Country      Source  \\\n",
       "1311  Kevin David Lehmann           2.4  19.0  Germany  drugstores   \n",
       "\n",
       "               Industry  Agegroup  \n",
       "1311  Fashion & Retail   below 40  "
      ]
     },
     "execution_count": 48,
     "metadata": {},
     "output_type": "execute_result"
    }
   ],
   "source": [
    "#who is the Youngest Billionaire in 2022?\n",
    "# lets say we want to filter all the data whose age was less than 20 years\n",
    "df.query('Age < 20')   #there was only one billionaire whose age was under 20 years. he is a 19 years old from Germany"
   ]
  },
  {
   "cell_type": "code",
   "execution_count": 49,
   "metadata": {},
   "outputs": [
    {
     "data": {
      "text/html": [
       "<div>\n",
       "<style scoped>\n",
       "    .dataframe tbody tr th:only-of-type {\n",
       "        vertical-align: middle;\n",
       "    }\n",
       "\n",
       "    .dataframe tbody tr th {\n",
       "        vertical-align: top;\n",
       "    }\n",
       "\n",
       "    .dataframe thead th {\n",
       "        text-align: right;\n",
       "    }\n",
       "</style>\n",
       "<table border=\"1\" class=\"dataframe\">\n",
       "  <thead>\n",
       "    <tr style=\"text-align: right;\">\n",
       "      <th></th>\n",
       "      <th>Name</th>\n",
       "      <th>Networth $B</th>\n",
       "      <th>Age</th>\n",
       "      <th>Country</th>\n",
       "      <th>Source</th>\n",
       "      <th>Industry</th>\n",
       "      <th>Agegroup</th>\n",
       "    </tr>\n",
       "  </thead>\n",
       "  <tbody>\n",
       "    <tr>\n",
       "      <th>436</th>\n",
       "      <td>Gary Wang</td>\n",
       "      <td>5.9</td>\n",
       "      <td>28.0</td>\n",
       "      <td>United States</td>\n",
       "      <td>cryptocurrency exchange</td>\n",
       "      <td>Finance &amp; Investments</td>\n",
       "      <td>below 40</td>\n",
       "    </tr>\n",
       "  </tbody>\n",
       "</table>\n",
       "</div>"
      ],
      "text/plain": [
       "           Name  Networth $B   Age        Country                   Source  \\\n",
       "436  Gary Wang           5.9  28.0  United States  cryptocurrency exchange   \n",
       "\n",
       "                   Industry  Agegroup  \n",
       "436  Finance & Investments   below 40  "
      ]
     },
     "execution_count": 49,
     "metadata": {},
     "output_type": "execute_result"
    }
   ],
   "source": [
    "#who is the youngest billionaire with higher net worth in 2022?\n",
    "\n",
    "youngest_1= youngest.sort_values(by=\"Networth $B\", ascending=False)[:1] # top 1 richest among the young billionaires  \n",
    "youngest_1"
   ]
  },
  {
   "cell_type": "code",
   "execution_count": 50,
   "metadata": {},
   "outputs": [
    {
     "data": {
      "text/plain": [
       "Agegroup\n",
       "below 40         365.50\n",
       "40-59           3797.35\n",
       "60-79           6098.20\n",
       "80 and above    2375.10\n",
       "Name: Networth $B, dtype: float64"
      ]
     },
     "execution_count": 50,
     "metadata": {},
     "output_type": "execute_result"
    }
   ],
   "source": [
    "#Which agegroup has highest the Networth?\n",
    "agegroup_df = df.groupby(\"Agegroup\")[\"Networth $B\"].sum()\n",
    "agegroup_df  "
   ]
  },
  {
   "cell_type": "code",
   "execution_count": 51,
   "metadata": {},
   "outputs": [
    {
     "data": {
      "text/html": [
       "<div>\n",
       "<style scoped>\n",
       "    .dataframe tbody tr th:only-of-type {\n",
       "        vertical-align: middle;\n",
       "    }\n",
       "\n",
       "    .dataframe tbody tr th {\n",
       "        vertical-align: top;\n",
       "    }\n",
       "\n",
       "    .dataframe thead th {\n",
       "        text-align: right;\n",
       "    }\n",
       "</style>\n",
       "<table border=\"1\" class=\"dataframe\">\n",
       "  <thead>\n",
       "    <tr style=\"text-align: right;\">\n",
       "      <th></th>\n",
       "      <th>Networth $B</th>\n",
       "    </tr>\n",
       "    <tr>\n",
       "      <th>Agegroup</th>\n",
       "      <th></th>\n",
       "    </tr>\n",
       "  </thead>\n",
       "  <tbody>\n",
       "    <tr>\n",
       "      <th>60-79</th>\n",
       "      <td>6098.20</td>\n",
       "    </tr>\n",
       "    <tr>\n",
       "      <th>40-59</th>\n",
       "      <td>3797.35</td>\n",
       "    </tr>\n",
       "    <tr>\n",
       "      <th>80 and above</th>\n",
       "      <td>2375.10</td>\n",
       "    </tr>\n",
       "    <tr>\n",
       "      <th>below 40</th>\n",
       "      <td>365.50</td>\n",
       "    </tr>\n",
       "  </tbody>\n",
       "</table>\n",
       "</div>"
      ],
      "text/plain": [
       "              Networth $B\n",
       "Agegroup                 \n",
       "60-79             6098.20\n",
       "40-59             3797.35\n",
       "80 and above      2375.10\n",
       "below 40           365.50"
      ]
     },
     "execution_count": 51,
     "metadata": {},
     "output_type": "execute_result"
    }
   ],
   "source": [
    "agegroup_df = pd.DataFrame(agegroup_df).sort_values(by=\"Networth $B\", ascending=False)   \n",
    "agegroup_df"
   ]
  },
  {
   "cell_type": "code",
   "execution_count": 52,
   "metadata": {},
   "outputs": [
    {
     "data": {
      "image/png": "[encoded data removed]",
      "text/plain": [
       "<Figure size 504x288 with 1 Axes>"
      ]
     },
     "metadata": {
      "needs_background": "light"
     },
     "output_type": "display_data"
    }
   ],
   "source": [
    "plt.figure(figsize=[7, 4])\n",
    "plt.xticks(rotation=40)\n",
    "plt.title(\"Total Networth($ Billions) by Agegroup\")\n",
    "sns.barplot(data=agegroup_df, x=agegroup_df[\"Networth $B\"], y=agegroup_df.index )\n",
    "plt.show()"
   ]
  },
  {
   "cell_type": "code",
   "execution_count": 53,
   "metadata": {},
   "outputs": [
    {
     "data": {
      "text/plain": [
       "country\n",
       "United States    719\n",
       "China            515\n",
       "India            161\n",
       "Germany          130\n",
       "Russia            81\n",
       "Hong Kong         67\n",
       "Canada            64\n",
       "Brazil            60\n",
       "Italy             52\n",
       "Taiwan            51\n",
       "Name: Country, dtype: int64"
      ]
     },
     "execution_count": 53,
     "metadata": {},
     "output_type": "execute_result"
    }
   ],
   "source": [
    "# Which countries have highest number of billionaires\n",
    "country_df= df['Country'].value_counts().rename_axis('country')    \n",
    "country_df.head(10)\n",
    "      # USA, China, India, Germany and Russia were the top 5 countries with highest number of billionaires"
   ]
  },
  {
   "cell_type": "code",
   "execution_count": 54,
   "metadata": {},
   "outputs": [
    {
     "data": {
      "image/png": "[encoded data removed]",
      "text/plain": [
       "<Figure size 1440x864 with 1 Axes>"
      ]
     },
     "metadata": {
      "needs_background": "light"
     },
     "output_type": "display_data"
    }
   ],
   "source": [
    "\n",
    "plt.figure(figsize = (20,12))\n",
    "plt.bar(x = country_df.index, height = country_df.values, color = 'blue')\n",
    "plt.xticks(rotation = 90)\n",
    "# Add title and axis names\n",
    "plt.title('Number of billionaire based in each Country in 2022', weight = 'bold')\n",
    "plt.xlabel('Country')\n",
    "plt.ylabel('number of billionaire')\n",
    "plt.show()"
   ]
  },
  {
   "cell_type": "code",
   "execution_count": 55,
   "metadata": {},
   "outputs": [
    {
     "data": {
      "text/html": [
       "<div>\n",
       "<style scoped>\n",
       "    .dataframe tbody tr th:only-of-type {\n",
       "        vertical-align: middle;\n",
       "    }\n",
       "\n",
       "    .dataframe tbody tr th {\n",
       "        vertical-align: top;\n",
       "    }\n",
       "\n",
       "    .dataframe thead th {\n",
       "        text-align: right;\n",
       "    }\n",
       "</style>\n",
       "<table border=\"1\" class=\"dataframe\">\n",
       "  <thead>\n",
       "    <tr style=\"text-align: right;\">\n",
       "      <th></th>\n",
       "      <th>Name</th>\n",
       "      <th>Networth $B</th>\n",
       "      <th>Age</th>\n",
       "      <th>Country</th>\n",
       "      <th>Source</th>\n",
       "      <th>Industry</th>\n",
       "      <th>Agegroup</th>\n",
       "    </tr>\n",
       "  </thead>\n",
       "  <tbody>\n",
       "    <tr>\n",
       "      <th>0</th>\n",
       "      <td>Elon Musk</td>\n",
       "      <td>219.0</td>\n",
       "      <td>50.0</td>\n",
       "      <td>United States</td>\n",
       "      <td>Tesla, SpaceX</td>\n",
       "      <td>Automotive</td>\n",
       "      <td>40-59</td>\n",
       "    </tr>\n",
       "    <tr>\n",
       "      <th>1</th>\n",
       "      <td>Jeff Bezos</td>\n",
       "      <td>171.0</td>\n",
       "      <td>58.0</td>\n",
       "      <td>United States</td>\n",
       "      <td>Amazon</td>\n",
       "      <td>Technology</td>\n",
       "      <td>40-59</td>\n",
       "    </tr>\n",
       "    <tr>\n",
       "      <th>3</th>\n",
       "      <td>Bill Gates</td>\n",
       "      <td>129.0</td>\n",
       "      <td>66.0</td>\n",
       "      <td>United States</td>\n",
       "      <td>Microsoft</td>\n",
       "      <td>Technology</td>\n",
       "      <td>60-79</td>\n",
       "    </tr>\n",
       "    <tr>\n",
       "      <th>4</th>\n",
       "      <td>Warren Buffett</td>\n",
       "      <td>118.0</td>\n",
       "      <td>91.0</td>\n",
       "      <td>United States</td>\n",
       "      <td>Berkshire Hathaway</td>\n",
       "      <td>Finance &amp; Investments</td>\n",
       "      <td>80 and above</td>\n",
       "    </tr>\n",
       "    <tr>\n",
       "      <th>5</th>\n",
       "      <td>Larry Page</td>\n",
       "      <td>111.0</td>\n",
       "      <td>49.0</td>\n",
       "      <td>United States</td>\n",
       "      <td>Google</td>\n",
       "      <td>Technology</td>\n",
       "      <td>40-59</td>\n",
       "    </tr>\n",
       "    <tr>\n",
       "      <th>...</th>\n",
       "      <td>...</td>\n",
       "      <td>...</td>\n",
       "      <td>...</td>\n",
       "      <td>...</td>\n",
       "      <td>...</td>\n",
       "      <td>...</td>\n",
       "      <td>...</td>\n",
       "    </tr>\n",
       "    <tr>\n",
       "      <th>2549</th>\n",
       "      <td>Robert Toll</td>\n",
       "      <td>1.1</td>\n",
       "      <td>81.0</td>\n",
       "      <td>United States</td>\n",
       "      <td>home building</td>\n",
       "      <td>Real Estate</td>\n",
       "      <td>80 and above</td>\n",
       "    </tr>\n",
       "    <tr>\n",
       "      <th>2578</th>\n",
       "      <td>Wilbur  'Ed' Bosarge, Jr.</td>\n",
       "      <td>1.0</td>\n",
       "      <td>82.0</td>\n",
       "      <td>United States</td>\n",
       "      <td>high speed trading</td>\n",
       "      <td>Finance &amp; Investments</td>\n",
       "      <td>80 and above</td>\n",
       "    </tr>\n",
       "    <tr>\n",
       "      <th>2588</th>\n",
       "      <td>Ronald Clarke</td>\n",
       "      <td>1.0</td>\n",
       "      <td>66.0</td>\n",
       "      <td>United States</td>\n",
       "      <td>payments technology</td>\n",
       "      <td>Technology</td>\n",
       "      <td>60-79</td>\n",
       "    </tr>\n",
       "    <tr>\n",
       "      <th>2590</th>\n",
       "      <td>Carl DeSantis</td>\n",
       "      <td>1.0</td>\n",
       "      <td>82.0</td>\n",
       "      <td>United States</td>\n",
       "      <td>energy drink</td>\n",
       "      <td>Food &amp; Beverage</td>\n",
       "      <td>80 and above</td>\n",
       "    </tr>\n",
       "    <tr>\n",
       "      <th>2593</th>\n",
       "      <td>Larry Fink</td>\n",
       "      <td>1.0</td>\n",
       "      <td>69.0</td>\n",
       "      <td>United States</td>\n",
       "      <td>money management</td>\n",
       "      <td>Finance &amp; Investments</td>\n",
       "      <td>60-79</td>\n",
       "    </tr>\n",
       "  </tbody>\n",
       "</table>\n",
       "<p>719 rows × 7 columns</p>\n",
       "</div>"
      ],
      "text/plain": [
       "                            Name  Networth $B   Age        Country  \\\n",
       "0                     Elon Musk         219.0  50.0  United States   \n",
       "1                    Jeff Bezos         171.0  58.0  United States   \n",
       "3                    Bill Gates         129.0  66.0  United States   \n",
       "4                Warren Buffett         118.0  91.0  United States   \n",
       "5                    Larry Page         111.0  49.0  United States   \n",
       "...                          ...          ...   ...            ...   \n",
       "2549                Robert Toll           1.1  81.0  United States   \n",
       "2578  Wilbur  'Ed' Bosarge, Jr.           1.0  82.0  United States   \n",
       "2588              Ronald Clarke           1.0  66.0  United States   \n",
       "2590              Carl DeSantis           1.0  82.0  United States   \n",
       "2593                 Larry Fink           1.0  69.0  United States   \n",
       "\n",
       "                   Source                Industry      Agegroup  \n",
       "0           Tesla, SpaceX             Automotive          40-59  \n",
       "1                  Amazon             Technology          40-59  \n",
       "3               Microsoft             Technology          60-79  \n",
       "4      Berkshire Hathaway  Finance & Investments   80 and above  \n",
       "5                  Google             Technology          40-59  \n",
       "...                   ...                     ...           ...  \n",
       "2549        home building            Real Estate   80 and above  \n",
       "2578   high speed trading  Finance & Investments   80 and above  \n",
       "2588  payments technology             Technology          60-79  \n",
       "2590         energy drink        Food & Beverage   80 and above  \n",
       "2593     money management  Finance & Investments          60-79  \n",
       "\n",
       "[719 rows x 7 columns]"
      ]
     },
     "execution_count": 55,
     "metadata": {},
     "output_type": "execute_result"
    }
   ],
   "source": [
    "# how many billionaires were from the USA\n",
    "df.query('Country == \"United States\"')   # There were 719 billionaires from the USA in 2022"
   ]
  },
  {
   "cell_type": "code",
   "execution_count": 56,
   "metadata": {},
   "outputs": [
    {
     "name": "stdout",
     "output_type": "stream",
     "text": [
      "4685\n"
     ]
    }
   ],
   "source": [
    "# what is the collective worth of billionaires from the USA\n",
    "print(round(df.query('Country == \"United States\"')[\"Networth $B\"].sum()))  #collective worth of $4.7 trillion"
   ]
  },
  {
   "cell_type": "code",
   "execution_count": 57,
   "metadata": {},
   "outputs": [
    {
     "data": {
      "text/html": [
       "<div>\n",
       "<style scoped>\n",
       "    .dataframe tbody tr th:only-of-type {\n",
       "        vertical-align: middle;\n",
       "    }\n",
       "\n",
       "    .dataframe tbody tr th {\n",
       "        vertical-align: top;\n",
       "    }\n",
       "\n",
       "    .dataframe thead th {\n",
       "        text-align: right;\n",
       "    }\n",
       "</style>\n",
       "<table border=\"1\" class=\"dataframe\">\n",
       "  <thead>\n",
       "    <tr style=\"text-align: right;\">\n",
       "      <th></th>\n",
       "      <th>Name</th>\n",
       "      <th>Networth $B</th>\n",
       "      <th>Age</th>\n",
       "      <th>Country</th>\n",
       "      <th>Source</th>\n",
       "      <th>Industry</th>\n",
       "      <th>Agegroup</th>\n",
       "    </tr>\n",
       "  </thead>\n",
       "  <tbody>\n",
       "    <tr>\n",
       "      <th>16</th>\n",
       "      <td>Zhong Shanshan</td>\n",
       "      <td>65.7</td>\n",
       "      <td>67.0</td>\n",
       "      <td>China</td>\n",
       "      <td>beverages, pharmaceuticals</td>\n",
       "      <td>Food &amp; Beverage</td>\n",
       "      <td>60-79</td>\n",
       "    </tr>\n",
       "    <tr>\n",
       "      <th>24</th>\n",
       "      <td>Zhang Yiming</td>\n",
       "      <td>50.0</td>\n",
       "      <td>38.0</td>\n",
       "      <td>China</td>\n",
       "      <td>TikTok</td>\n",
       "      <td>Media &amp; Entertainment</td>\n",
       "      <td>below 40</td>\n",
       "    </tr>\n",
       "    <tr>\n",
       "      <th>33</th>\n",
       "      <td>Ma Huateng</td>\n",
       "      <td>37.2</td>\n",
       "      <td>50.0</td>\n",
       "      <td>China</td>\n",
       "      <td>internet media</td>\n",
       "      <td>Technology</td>\n",
       "      <td>40-59</td>\n",
       "    </tr>\n",
       "    <tr>\n",
       "      <th>48</th>\n",
       "      <td>He Xiangjian</td>\n",
       "      <td>28.3</td>\n",
       "      <td>79.0</td>\n",
       "      <td>China</td>\n",
       "      <td>home appliances</td>\n",
       "      <td>Manufacturing</td>\n",
       "      <td>80 and above</td>\n",
       "    </tr>\n",
       "    <tr>\n",
       "      <th>54</th>\n",
       "      <td>William Lei Ding</td>\n",
       "      <td>25.2</td>\n",
       "      <td>50.0</td>\n",
       "      <td>China</td>\n",
       "      <td>online games</td>\n",
       "      <td>Technology</td>\n",
       "      <td>40-59</td>\n",
       "    </tr>\n",
       "    <tr>\n",
       "      <th>...</th>\n",
       "      <td>...</td>\n",
       "      <td>...</td>\n",
       "      <td>...</td>\n",
       "      <td>...</td>\n",
       "      <td>...</td>\n",
       "      <td>...</td>\n",
       "      <td>...</td>\n",
       "    </tr>\n",
       "    <tr>\n",
       "      <th>2573</th>\n",
       "      <td>Zhang Cheng Fei</td>\n",
       "      <td>1.1</td>\n",
       "      <td>54.0</td>\n",
       "      <td>China</td>\n",
       "      <td>paper &amp; related products</td>\n",
       "      <td>Manufacturing</td>\n",
       "      <td>40-59</td>\n",
       "    </tr>\n",
       "    <tr>\n",
       "      <th>2574</th>\n",
       "      <td>Zhang Fangliang</td>\n",
       "      <td>1.1</td>\n",
       "      <td>57.0</td>\n",
       "      <td>China</td>\n",
       "      <td>biotechnology</td>\n",
       "      <td>Healthcare</td>\n",
       "      <td>40-59</td>\n",
       "    </tr>\n",
       "    <tr>\n",
       "      <th>2575</th>\n",
       "      <td>Baoshen Zhong</td>\n",
       "      <td>1.1</td>\n",
       "      <td>54.0</td>\n",
       "      <td>China</td>\n",
       "      <td>solar energy</td>\n",
       "      <td>Energy</td>\n",
       "      <td>40-59</td>\n",
       "    </tr>\n",
       "    <tr>\n",
       "      <th>2576</th>\n",
       "      <td>Zhou Minghua</td>\n",
       "      <td>1.1</td>\n",
       "      <td>58.0</td>\n",
       "      <td>China</td>\n",
       "      <td>pharmaceutical</td>\n",
       "      <td>Healthcare</td>\n",
       "      <td>40-59</td>\n",
       "    </tr>\n",
       "    <tr>\n",
       "      <th>2594</th>\n",
       "      <td>Fu Gang</td>\n",
       "      <td>1.0</td>\n",
       "      <td>51.0</td>\n",
       "      <td>China</td>\n",
       "      <td>pharma retailing</td>\n",
       "      <td>Healthcare</td>\n",
       "      <td>40-59</td>\n",
       "    </tr>\n",
       "  </tbody>\n",
       "</table>\n",
       "<p>515 rows × 7 columns</p>\n",
       "</div>"
      ],
      "text/plain": [
       "                   Name  Networth $B   Age Country  \\\n",
       "16      Zhong Shanshan          65.7  67.0   China   \n",
       "24        Zhang Yiming          50.0  38.0   China   \n",
       "33          Ma Huateng          37.2  50.0   China   \n",
       "48        He Xiangjian          28.3  79.0   China   \n",
       "54    William Lei Ding          25.2  50.0   China   \n",
       "...                 ...          ...   ...     ...   \n",
       "2573   Zhang Cheng Fei           1.1  54.0   China   \n",
       "2574   Zhang Fangliang           1.1  57.0   China   \n",
       "2575     Baoshen Zhong           1.1  54.0   China   \n",
       "2576      Zhou Minghua           1.1  58.0   China   \n",
       "2594           Fu Gang           1.0  51.0   China   \n",
       "\n",
       "                          Source                Industry      Agegroup  \n",
       "16    beverages, pharmaceuticals        Food & Beverage          60-79  \n",
       "24                        TikTok  Media & Entertainment       below 40  \n",
       "33                internet media             Technology          40-59  \n",
       "48               home appliances          Manufacturing   80 and above  \n",
       "54                  online games             Technology          40-59  \n",
       "...                          ...                     ...           ...  \n",
       "2573    paper & related products          Manufacturing          40-59  \n",
       "2574               biotechnology             Healthcare          40-59  \n",
       "2575                solar energy                 Energy          40-59  \n",
       "2576              pharmaceutical             Healthcare          40-59  \n",
       "2594            pharma retailing             Healthcare          40-59  \n",
       "\n",
       "[515 rows x 7 columns]"
      ]
     },
     "execution_count": 57,
     "metadata": {},
     "output_type": "execute_result"
    }
   ],
   "source": [
    "# how many billionaires were from China\n",
    "df.query('Country == \"China\"')  #515 from china"
   ]
  },
  {
   "cell_type": "code",
   "execution_count": 58,
   "metadata": {},
   "outputs": [
    {
     "name": "stdout",
     "output_type": "stream",
     "text": [
      "1938\n"
     ]
    }
   ],
   "source": [
    "# what is the collective worth of billionaires from China\n",
    "print(round(df.query('Country == \"China\"')[\"Networth $B\"].sum()))  #collective $1.9 trillion"
   ]
  },
  {
   "cell_type": "code",
   "execution_count": 59,
   "metadata": {},
   "outputs": [
    {
     "data": {
      "text/html": [
       "<div>\n",
       "<style scoped>\n",
       "    .dataframe tbody tr th:only-of-type {\n",
       "        vertical-align: middle;\n",
       "    }\n",
       "\n",
       "    .dataframe tbody tr th {\n",
       "        vertical-align: top;\n",
       "    }\n",
       "\n",
       "    .dataframe thead th {\n",
       "        text-align: right;\n",
       "    }\n",
       "</style>\n",
       "<table border=\"1\" class=\"dataframe\">\n",
       "  <thead>\n",
       "    <tr style=\"text-align: right;\">\n",
       "      <th></th>\n",
       "      <th>Name</th>\n",
       "      <th>Networth $B</th>\n",
       "      <th>Age</th>\n",
       "      <th>Country</th>\n",
       "      <th>Source</th>\n",
       "      <th>Industry</th>\n",
       "      <th>Agegroup</th>\n",
       "    </tr>\n",
       "  </thead>\n",
       "  <tbody>\n",
       "    <tr>\n",
       "      <th>9</th>\n",
       "      <td>Mukesh Ambani</td>\n",
       "      <td>90.7</td>\n",
       "      <td>64.0</td>\n",
       "      <td>India</td>\n",
       "      <td>diversified</td>\n",
       "      <td>Diversified</td>\n",
       "      <td>60-79</td>\n",
       "    </tr>\n",
       "    <tr>\n",
       "      <th>10</th>\n",
       "      <td>Gautam Adani &amp; family</td>\n",
       "      <td>90.0</td>\n",
       "      <td>59.0</td>\n",
       "      <td>India</td>\n",
       "      <td>infrastructure, commodities</td>\n",
       "      <td>Diversified</td>\n",
       "      <td>60-79</td>\n",
       "    </tr>\n",
       "    <tr>\n",
       "      <th>46</th>\n",
       "      <td>Shiv Nadar</td>\n",
       "      <td>28.7</td>\n",
       "      <td>76.0</td>\n",
       "      <td>India</td>\n",
       "      <td>software services</td>\n",
       "      <td>Technology</td>\n",
       "      <td>60-79</td>\n",
       "    </tr>\n",
       "    <tr>\n",
       "      <th>56</th>\n",
       "      <td>Cyrus Poonawalla</td>\n",
       "      <td>24.3</td>\n",
       "      <td>80.0</td>\n",
       "      <td>India</td>\n",
       "      <td>vaccines</td>\n",
       "      <td>Healthcare</td>\n",
       "      <td>80 and above</td>\n",
       "    </tr>\n",
       "    <tr>\n",
       "      <th>80</th>\n",
       "      <td>Radhakishan Damani</td>\n",
       "      <td>20.0</td>\n",
       "      <td>67.0</td>\n",
       "      <td>India</td>\n",
       "      <td>retail, investments</td>\n",
       "      <td>Fashion &amp; Retail</td>\n",
       "      <td>60-79</td>\n",
       "    </tr>\n",
       "    <tr>\n",
       "      <th>...</th>\n",
       "      <td>...</td>\n",
       "      <td>...</td>\n",
       "      <td>...</td>\n",
       "      <td>...</td>\n",
       "      <td>...</td>\n",
       "      <td>...</td>\n",
       "      <td>...</td>\n",
       "    </tr>\n",
       "    <tr>\n",
       "      <th>2539</th>\n",
       "      <td>Kavita Singhania</td>\n",
       "      <td>1.1</td>\n",
       "      <td>60.0</td>\n",
       "      <td>India</td>\n",
       "      <td>cement</td>\n",
       "      <td>Manufacturing</td>\n",
       "      <td>60-79</td>\n",
       "    </tr>\n",
       "    <tr>\n",
       "      <th>2542</th>\n",
       "      <td>Ashok Soota</td>\n",
       "      <td>1.1</td>\n",
       "      <td>79.0</td>\n",
       "      <td>India</td>\n",
       "      <td>software services</td>\n",
       "      <td>Technology</td>\n",
       "      <td>80 and above</td>\n",
       "    </tr>\n",
       "    <tr>\n",
       "      <th>2544</th>\n",
       "      <td>Venu Srinivasan</td>\n",
       "      <td>1.1</td>\n",
       "      <td>69.0</td>\n",
       "      <td>India</td>\n",
       "      <td>two-wheelers</td>\n",
       "      <td>Automotive</td>\n",
       "      <td>60-79</td>\n",
       "    </tr>\n",
       "    <tr>\n",
       "      <th>2551</th>\n",
       "      <td>Sunil Vachani</td>\n",
       "      <td>1.1</td>\n",
       "      <td>53.0</td>\n",
       "      <td>India</td>\n",
       "      <td>electronics</td>\n",
       "      <td>Manufacturing</td>\n",
       "      <td>40-59</td>\n",
       "    </tr>\n",
       "    <tr>\n",
       "      <th>2577</th>\n",
       "      <td>Krishna Kumar Bangur</td>\n",
       "      <td>1.0</td>\n",
       "      <td>61.0</td>\n",
       "      <td>India</td>\n",
       "      <td>graphite electrodes</td>\n",
       "      <td>Manufacturing</td>\n",
       "      <td>60-79</td>\n",
       "    </tr>\n",
       "  </tbody>\n",
       "</table>\n",
       "<p>161 rows × 7 columns</p>\n",
       "</div>"
      ],
      "text/plain": [
       "                        Name  Networth $B   Age Country  \\\n",
       "9             Mukesh Ambani          90.7  64.0   India   \n",
       "10    Gautam Adani & family          90.0  59.0   India   \n",
       "46               Shiv Nadar          28.7  76.0   India   \n",
       "56         Cyrus Poonawalla          24.3  80.0   India   \n",
       "80       Radhakishan Damani          20.0  67.0   India   \n",
       "...                      ...          ...   ...     ...   \n",
       "2539       Kavita Singhania           1.1  60.0   India   \n",
       "2542            Ashok Soota           1.1  79.0   India   \n",
       "2544        Venu Srinivasan           1.1  69.0   India   \n",
       "2551          Sunil Vachani           1.1  53.0   India   \n",
       "2577   Krishna Kumar Bangur           1.0  61.0   India   \n",
       "\n",
       "                           Source           Industry      Agegroup  \n",
       "9                     diversified       Diversified          60-79  \n",
       "10    infrastructure, commodities       Diversified          60-79  \n",
       "46              software services        Technology          60-79  \n",
       "56                       vaccines        Healthcare   80 and above  \n",
       "80            retail, investments  Fashion & Retail          60-79  \n",
       "...                           ...                ...           ...  \n",
       "2539                       cement     Manufacturing          60-79  \n",
       "2542            software services        Technology   80 and above  \n",
       "2544                 two-wheelers        Automotive          60-79  \n",
       "2551                  electronics     Manufacturing          40-59  \n",
       "2577          graphite electrodes     Manufacturing          60-79  \n",
       "\n",
       "[161 rows x 7 columns]"
      ]
     },
     "execution_count": 59,
     "metadata": {},
     "output_type": "execute_result"
    }
   ],
   "source": [
    "# how many billionaires were from India\n",
    "df.query('Country == \"India\"')  #161 from India"
   ]
  },
  {
   "cell_type": "code",
   "execution_count": 60,
   "metadata": {},
   "outputs": [
    {
     "name": "stdout",
     "output_type": "stream",
     "text": [
      "745\n"
     ]
    }
   ],
   "source": [
    "# what is the collective worth of billionaires from India\n",
    "print(round(df.query('Country == \"India\"')[\"Networth $B\"].sum()))  #collective worth of 745 B$"
   ]
  },
  {
   "cell_type": "code",
   "execution_count": 61,
   "metadata": {},
   "outputs": [
    {
     "data": {
      "text/plain": [
       "Country\n",
       "Algeria             5.1\n",
       "Argentina          14.0\n",
       "Australia         205.1\n",
       "Austria            61.7\n",
       "Barbados            1.7\n",
       "                  ...  \n",
       "United States    4685.1\n",
       "Uruguay             3.0\n",
       "Venezuela           3.5\n",
       "Vietnam            21.2\n",
       "Zimbabwe            3.0\n",
       "Name: Networth $B, Length: 75, dtype: float64"
      ]
     },
     "execution_count": 61,
     "metadata": {},
     "output_type": "execute_result"
    }
   ],
   "source": [
    "#Which countries have highest Networth?\n",
    "country_networth = df.groupby(\"Country\")[\"Networth $B\"].sum()\n",
    "country_networth    #   "
   ]
  },
  {
   "cell_type": "code",
   "execution_count": 62,
   "metadata": {},
   "outputs": [
    {
     "data": {
      "text/html": [
       "<div>\n",
       "<style scoped>\n",
       "    .dataframe tbody tr th:only-of-type {\n",
       "        vertical-align: middle;\n",
       "    }\n",
       "\n",
       "    .dataframe tbody tr th {\n",
       "        vertical-align: top;\n",
       "    }\n",
       "\n",
       "    .dataframe thead th {\n",
       "        text-align: right;\n",
       "    }\n",
       "</style>\n",
       "<table border=\"1\" class=\"dataframe\">\n",
       "  <thead>\n",
       "    <tr style=\"text-align: right;\">\n",
       "      <th></th>\n",
       "      <th>Networth $B</th>\n",
       "    </tr>\n",
       "    <tr>\n",
       "      <th>Country</th>\n",
       "      <th></th>\n",
       "    </tr>\n",
       "  </thead>\n",
       "  <tbody>\n",
       "    <tr>\n",
       "      <th>United States</th>\n",
       "      <td>4685.10</td>\n",
       "    </tr>\n",
       "    <tr>\n",
       "      <th>China</th>\n",
       "      <td>1938.45</td>\n",
       "    </tr>\n",
       "    <tr>\n",
       "      <th>India</th>\n",
       "      <td>744.80</td>\n",
       "    </tr>\n",
       "    <tr>\n",
       "      <th>Germany</th>\n",
       "      <td>604.00</td>\n",
       "    </tr>\n",
       "    <tr>\n",
       "      <th>France</th>\n",
       "      <td>550.00</td>\n",
       "    </tr>\n",
       "    <tr>\n",
       "      <th>Hong Kong</th>\n",
       "      <td>383.40</td>\n",
       "    </tr>\n",
       "    <tr>\n",
       "      <th>Russia</th>\n",
       "      <td>318.20</td>\n",
       "    </tr>\n",
       "    <tr>\n",
       "      <th>Canada</th>\n",
       "      <td>307.90</td>\n",
       "    </tr>\n",
       "    <tr>\n",
       "      <th>Australia</th>\n",
       "      <td>205.10</td>\n",
       "    </tr>\n",
       "    <tr>\n",
       "      <th>United Kingdom</th>\n",
       "      <td>199.10</td>\n",
       "    </tr>\n",
       "  </tbody>\n",
       "</table>\n",
       "</div>"
      ],
      "text/plain": [
       "                Networth $B\n",
       "Country                    \n",
       "United States       4685.10\n",
       "China               1938.45\n",
       "India                744.80\n",
       "Germany              604.00\n",
       "France               550.00\n",
       "Hong Kong            383.40\n",
       "Russia               318.20\n",
       "Canada               307.90\n",
       "Australia            205.10\n",
       "United Kingdom       199.10"
      ]
     },
     "execution_count": 62,
     "metadata": {},
     "output_type": "execute_result"
    }
   ],
   "source": [
    "country_networth = pd.DataFrame(country_networth).sort_values(by=\"Networth $B\", ascending=False)[:10]\n",
    "country_networth"
   ]
  },
  {
   "cell_type": "code",
   "execution_count": 63,
   "metadata": {},
   "outputs": [
    {
     "data": {
      "image/png": "[encoded data removed]",
      "text/plain": [
       "<Figure size 1080x432 with 1 Axes>"
      ]
     },
     "metadata": {
      "needs_background": "light"
     },
     "output_type": "display_data"
    }
   ],
   "source": [
    "plt.figure(figsize=[15, 6])\n",
    "plt.xticks(rotation=75)\n",
    "plt.title(\"Total Networth($ Billions) by country\")\n",
    "sns.barplot(data=country_networth, x=country_networth.index, y=country_networth[\"Networth $B\"])\n",
    "plt.show()   # United States of America has the highest wealth followed by china and India"
   ]
  },
  {
   "cell_type": "code",
   "execution_count": 64,
   "metadata": {},
   "outputs": [
    {
     "data": {
      "text/plain": [
       "Industry\n",
       "Finance & Investments          386\n",
       "Technology                     329\n",
       "Manufacturing                  322\n",
       "Fashion & Retail               246\n",
       "Healthcare                     212\n",
       "Food & Beverage                201\n",
       "Real Estate                    189\n",
       "Diversified                    178\n",
       "Media & Entertainment           95\n",
       "Energy                          93\n",
       "Automotive                      69\n",
       "Metals & Mining                 67\n",
       "Service                         51\n",
       "Construction & Engineering      43\n",
       "Telecom                         35\n",
       "Logistics                       35\n",
       "Sports                          26\n",
       "Gambling & Casinos              23\n",
       "Name: Industry, dtype: int64"
      ]
     },
     "execution_count": 64,
     "metadata": {},
     "output_type": "execute_result"
    }
   ],
   "source": [
    "#Which industries have highest number of billionaires\n",
    "Industry_df_count= df['Industry'].value_counts().rename_axis('Industry')    \n",
    "Industry_df_count   #Top 5 industries that had higher number of billionaires were Finance & Investments, Technology, Manufacturing, Fashion & Retail, Healthcare"
   ]
  },
  {
   "cell_type": "code",
   "execution_count": 65,
   "metadata": {},
   "outputs": [
    {
     "data": {
      "image/png": "[encoded data removed]",
      "text/plain": [
       "<Figure size 1440x720 with 1 Axes>"
      ]
     },
     "metadata": {
      "needs_background": "light"
     },
     "output_type": "display_data"
    }
   ],
   "source": [
    "\n",
    "mcolors.XKCD_COLORS #named colors from the xkcd survey\n",
    " \n",
    "plt.figure(figsize = (20,10))\n",
    "plt.bar(x = Industry_df_count.index, height = Industry_df_count.values, color = mcolors.XKCD_COLORS['xkcd:apricot'])\n",
    "plt.xticks(rotation = 60)\n",
    "# Add title and axis names\n",
    "plt.title('Number of billionaire in each Industry in 2022', weight = 'bold')\n",
    "plt.xlabel('Industry')\n",
    "plt.ylabel('number of billionaire')\n",
    "plt.show()"
   ]
  },
  {
   "cell_type": "code",
   "execution_count": 66,
   "metadata": {},
   "outputs": [
    {
     "data": {
      "text/plain": [
       "Industry\n",
       "Automotive                      582.60\n",
       "Construction & Engineering      120.90\n",
       "Diversified                     939.50\n",
       "Energy                          395.30\n",
       "Fashion & Retail               1613.20\n",
       "Finance & Investments          1734.30\n",
       "Food & Beverage                 933.35\n",
       "Gambling & Casinos              107.60\n",
       "Healthcare                      708.90\n",
       "Logistics                       196.20\n",
       "Manufacturing                  1079.80\n",
       "Media & Entertainment           493.60\n",
       "Metals & Mining                 389.70\n",
       "Real Estate                     685.80\n",
       "Service                         186.10\n",
       "Sports                           97.60\n",
       "Technology                     2168.40\n",
       "Telecom                         205.10\n",
       "Name: Networth $B, dtype: float64"
      ]
     },
     "execution_count": 66,
     "metadata": {},
     "output_type": "execute_result"
    }
   ],
   "source": [
    "#Which industries have highest Networth?\n",
    "Industry_df = df.groupby(\"Industry\")[\"Networth $B\"].sum()\n",
    "Industry_df    # Automotive, Construction & Engineering, Diversified, Energy and Fashion & Retail were the top five industries with the highest networth  "
   ]
  },
  {
   "cell_type": "code",
   "execution_count": 67,
   "metadata": {},
   "outputs": [
    {
     "data": {
      "text/html": [
       "<div>\n",
       "<style scoped>\n",
       "    .dataframe tbody tr th:only-of-type {\n",
       "        vertical-align: middle;\n",
       "    }\n",
       "\n",
       "    .dataframe tbody tr th {\n",
       "        vertical-align: top;\n",
       "    }\n",
       "\n",
       "    .dataframe thead th {\n",
       "        text-align: right;\n",
       "    }\n",
       "</style>\n",
       "<table border=\"1\" class=\"dataframe\">\n",
       "  <thead>\n",
       "    <tr style=\"text-align: right;\">\n",
       "      <th></th>\n",
       "      <th>Networth $B</th>\n",
       "    </tr>\n",
       "    <tr>\n",
       "      <th>Industry</th>\n",
       "      <th></th>\n",
       "    </tr>\n",
       "  </thead>\n",
       "  <tbody>\n",
       "    <tr>\n",
       "      <th>Technology</th>\n",
       "      <td>2168.40</td>\n",
       "    </tr>\n",
       "    <tr>\n",
       "      <th>Finance &amp; Investments</th>\n",
       "      <td>1734.30</td>\n",
       "    </tr>\n",
       "    <tr>\n",
       "      <th>Fashion &amp; Retail</th>\n",
       "      <td>1613.20</td>\n",
       "    </tr>\n",
       "    <tr>\n",
       "      <th>Manufacturing</th>\n",
       "      <td>1079.80</td>\n",
       "    </tr>\n",
       "    <tr>\n",
       "      <th>Diversified</th>\n",
       "      <td>939.50</td>\n",
       "    </tr>\n",
       "    <tr>\n",
       "      <th>Food &amp; Beverage</th>\n",
       "      <td>933.35</td>\n",
       "    </tr>\n",
       "    <tr>\n",
       "      <th>Healthcare</th>\n",
       "      <td>708.90</td>\n",
       "    </tr>\n",
       "    <tr>\n",
       "      <th>Real Estate</th>\n",
       "      <td>685.80</td>\n",
       "    </tr>\n",
       "    <tr>\n",
       "      <th>Automotive</th>\n",
       "      <td>582.60</td>\n",
       "    </tr>\n",
       "    <tr>\n",
       "      <th>Media &amp; Entertainment</th>\n",
       "      <td>493.60</td>\n",
       "    </tr>\n",
       "  </tbody>\n",
       "</table>\n",
       "</div>"
      ],
      "text/plain": [
       "                        Networth $B\n",
       "Industry                           \n",
       "Technology                  2168.40\n",
       "Finance & Investments       1734.30\n",
       "Fashion & Retail            1613.20\n",
       "Manufacturing               1079.80\n",
       "Diversified                  939.50\n",
       "Food & Beverage              933.35\n",
       "Healthcare                   708.90\n",
       "Real Estate                  685.80\n",
       "Automotive                   582.60\n",
       "Media & Entertainment        493.60"
      ]
     },
     "execution_count": 67,
     "metadata": {},
     "output_type": "execute_result"
    }
   ],
   "source": [
    "Industry_networth = pd.DataFrame(Industry_df).sort_values(by=\"Networth $B\", ascending=False)[:10]\n",
    "Industry_networth"
   ]
  },
  {
   "cell_type": "code",
   "execution_count": 68,
   "metadata": {},
   "outputs": [
    {
     "data": {
      "image/png": "[encoded data removed]",
      "text/plain": [
       "<Figure size 1080x432 with 1 Axes>"
      ]
     },
     "metadata": {
      "needs_background": "light"
     },
     "output_type": "display_data"
    }
   ],
   "source": [
    "plt.figure(figsize=[15, 6])\n",
    "plt.xticks(rotation=75)\n",
    "plt.title(\"Total Networth($ Billions) by Industry\")\n",
    "sns.barplot(data=Industry_networth, x=Industry_networth.index, y=Industry_networth[\"Networth $B\"])\n",
    "plt.show()   # technology, finance and investiment, and fashin and retail are the top three industris with the highest networth in 2022"
   ]
  },
  {
   "cell_type": "code",
   "execution_count": 69,
   "metadata": {},
   "outputs": [
    {
     "data": {
      "text/plain": [
       "Source\n",
       "real estate        148\n",
       "investments         93\n",
       "pharmaceuticals     91\n",
       "diversified         83\n",
       "software            57\n",
       "hedge funds         42\n",
       "private equity      37\n",
       "retail              35\n",
       "chemicals           31\n",
       "manufacturing       29\n",
       "Name: Source, dtype: int64"
      ]
     },
     "execution_count": 69,
     "metadata": {},
     "output_type": "execute_result"
    }
   ],
   "source": [
    "# Which sources have highest number of Billionaires\n",
    "source_df= df['Source'].value_counts().rename_axis('Source')[:10]\n",
    "source_df\n",
    "    #Real estate has the highest number of billionnaies followed by investiments, pharmaceuticals\n",
    "    #Top5 sources with highest number of Billionares.real estate, investiments, pharmaceuticals, diversified, software"
   ]
  },
  {
   "cell_type": "code",
   "execution_count": 70,
   "metadata": {},
   "outputs": [
    {
     "data": {
      "image/png": "[encoded data removed]",
      "text/plain": [
       "<Figure size 1440x576 with 1 Axes>"
      ]
     },
     "metadata": {
      "needs_background": "light"
     },
     "output_type": "display_data"
    }
   ],
   "source": [
    "plt.figure(figsize = (20,8))\n",
    "plt.bar(x = source_df.index, height = source_df.values, color = mcolors.TABLEAU_COLORS['tab:purple'])\n",
    "plt.xticks(rotation = 60)\n",
    "# Add title and axis names\n",
    "plt.title('Number of billionaire in each source in 2022', weight = 'bold')\n",
    "plt.xlabel('Source')\n",
    "plt.ylabel('number of billionaire')\n",
    "plt.show()"
   ]
  },
  {
   "cell_type": "code",
   "execution_count": 71,
   "metadata": {},
   "outputs": [
    {
     "data": {
      "text/plain": [
       "Source\n",
       "3D printing                  2.4\n",
       "AOL                          1.5\n",
       "Airbnb                      30.7\n",
       "Aldi, Trader Joe's          18.7\n",
       "Aluminium                    1.2\n",
       "                            ... \n",
       "wind turbines                5.8\n",
       "wine                         6.6\n",
       "winter jackets               3.0\n",
       "wire & cables, paints        1.7\n",
       "wireless networking gear    14.6\n",
       "Name: Networth $B, Length: 895, dtype: float64"
      ]
     },
     "execution_count": 71,
     "metadata": {},
     "output_type": "execute_result"
    }
   ],
   "source": [
    "#Which sources have the highest Networth?\n",
    "source_df = df.groupby(\"Source\")[\"Networth $B\"].sum()\n",
    "source_df     "
   ]
  },
  {
   "cell_type": "code",
   "execution_count": 72,
   "metadata": {},
   "outputs": [
    {
     "data": {
      "text/html": [
       "<div>\n",
       "<style scoped>\n",
       "    .dataframe tbody tr th:only-of-type {\n",
       "        vertical-align: middle;\n",
       "    }\n",
       "\n",
       "    .dataframe tbody tr th {\n",
       "        vertical-align: top;\n",
       "    }\n",
       "\n",
       "    .dataframe thead th {\n",
       "        text-align: right;\n",
       "    }\n",
       "</style>\n",
       "<table border=\"1\" class=\"dataframe\">\n",
       "  <thead>\n",
       "    <tr style=\"text-align: right;\">\n",
       "      <th></th>\n",
       "      <th>Networth $B</th>\n",
       "    </tr>\n",
       "    <tr>\n",
       "      <th>Source</th>\n",
       "      <th></th>\n",
       "    </tr>\n",
       "  </thead>\n",
       "  <tbody>\n",
       "    <tr>\n",
       "      <th>real estate</th>\n",
       "      <td>573.8</td>\n",
       "    </tr>\n",
       "    <tr>\n",
       "      <th>diversified</th>\n",
       "      <td>382.0</td>\n",
       "    </tr>\n",
       "    <tr>\n",
       "      <th>investments</th>\n",
       "      <td>358.3</td>\n",
       "    </tr>\n",
       "    <tr>\n",
       "      <th>software</th>\n",
       "      <td>289.7</td>\n",
       "    </tr>\n",
       "    <tr>\n",
       "      <th>pharmaceuticals</th>\n",
       "      <td>284.4</td>\n",
       "    </tr>\n",
       "    <tr>\n",
       "      <th>hedge funds</th>\n",
       "      <td>271.6</td>\n",
       "    </tr>\n",
       "    <tr>\n",
       "      <th>Google</th>\n",
       "      <td>260.9</td>\n",
       "    </tr>\n",
       "    <tr>\n",
       "      <th>Walmart</th>\n",
       "      <td>238.0</td>\n",
       "    </tr>\n",
       "    <tr>\n",
       "      <th>Microsoft</th>\n",
       "      <td>232.4</td>\n",
       "    </tr>\n",
       "    <tr>\n",
       "      <th>Tesla, SpaceX</th>\n",
       "      <td>219.0</td>\n",
       "    </tr>\n",
       "  </tbody>\n",
       "</table>\n",
       "</div>"
      ],
      "text/plain": [
       "                 Networth $B\n",
       "Source                      \n",
       "real estate            573.8\n",
       "diversified            382.0\n",
       "investments            358.3\n",
       "software               289.7\n",
       "pharmaceuticals        284.4\n",
       "hedge funds            271.6\n",
       "Google                 260.9\n",
       "Walmart                238.0\n",
       "Microsoft              232.4\n",
       "Tesla, SpaceX          219.0"
      ]
     },
     "execution_count": 72,
     "metadata": {},
     "output_type": "execute_result"
    }
   ],
   "source": [
    "source_df = pd.DataFrame(source_df).sort_values(by=\"Networth $B\", ascending=False)[:10]   \n",
    "source_df  # real estate, Diversified, investiments, software, & pharmaceuticals were the top five sources with the highest networth "
   ]
  },
  {
   "cell_type": "code",
   "execution_count": 73,
   "metadata": {},
   "outputs": [
    {
     "data": {
      "image/png": "[encoded data removed]",
      "text/plain": [
       "<Figure size 1080x432 with 1 Axes>"
      ]
     },
     "metadata": {
      "needs_background": "light"
     },
     "output_type": "display_data"
    }
   ],
   "source": [
    "plt.figure(figsize=[15, 6])\n",
    "plt.xticks(rotation=40)\n",
    "plt.title(\"Total Networth($ Billions) by source\")\n",
    "sns.barplot(data=source_df, x=source_df.index, y=source_df[\"Networth $B\"])\n",
    "plt.show()  # real estate, Diversified, investiments, software, & pharmaceuticals were the top five sources with the highest networth "
   ]
  },
  {
   "cell_type": "code",
   "execution_count": null,
   "metadata": {},
   "outputs": [],
   "source": []
  }
 ],
 "metadata": {
  "kernelspec": {
   "display_name": "Python 3",
   "language": "python",
   "name": "python3"
  },
  "language_info": {
   "codemirror_mode": {
    "name": "ipython",
    "version": 3
   },
   "file_extension": ".py",
   "mimetype": "text/x-python",
   "name": "python",
   "nbconvert_exporter": "python",
   "pygments_lexer": "ipython3",
   "version": "3.8.5"
  }
 },
 "nbformat": 4,
 "nbformat_minor": 4
}
